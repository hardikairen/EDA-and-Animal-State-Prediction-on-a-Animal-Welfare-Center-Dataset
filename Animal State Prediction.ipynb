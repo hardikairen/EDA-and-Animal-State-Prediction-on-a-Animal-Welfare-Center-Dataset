{
 "cells": [
  {
   "cell_type": "markdown",
   "metadata": {},
   "source": [
    "# ANIMAL STATE PREDICTION"
   ]
  },
  {
   "cell_type": "code",
   "execution_count": 704,
   "metadata": {},
   "outputs": [],
   "source": [
    "import pandas as pd\n",
    "import matplotlib.cm as cm\n",
    "import matplotlib.pyplot as plt\n",
    "import numpy as np"
   ]
  },
  {
   "cell_type": "code",
   "execution_count": 705,
   "metadata": {},
   "outputs": [
    {
     "name": "stdout",
     "output_type": "stream",
     "text": [
      "C:\\Users\\Hardik Airen\\Animal State Prediction\n"
     ]
    }
   ],
   "source": [
    "cd C:\\Users\\Hardik Airen\\Animal State Prediction"
   ]
  },
  {
   "cell_type": "markdown",
   "metadata": {},
   "source": [
    "### Read , Explore , Clean Data"
   ]
  },
  {
   "cell_type": "code",
   "execution_count": 706,
   "metadata": {},
   "outputs": [],
   "source": [
    "train = pd.read_csv('train.csv')"
   ]
  },
  {
   "cell_type": "code",
   "execution_count": 707,
   "metadata": {},
   "outputs": [],
   "source": [
    "train_copy = pd.read_csv('train.csv')"
   ]
  },
  {
   "cell_type": "code",
   "execution_count": 708,
   "metadata": {},
   "outputs": [],
   "source": [
    "test = pd.read_csv('test.csv')"
   ]
  },
  {
   "cell_type": "code",
   "execution_count": 709,
   "metadata": {},
   "outputs": [
    {
     "data": {
      "text/html": [
       "<div>\n",
       "<style scoped>\n",
       "    .dataframe tbody tr th:only-of-type {\n",
       "        vertical-align: middle;\n",
       "    }\n",
       "\n",
       "    .dataframe tbody tr th {\n",
       "        vertical-align: top;\n",
       "    }\n",
       "\n",
       "    .dataframe thead th {\n",
       "        text-align: right;\n",
       "    }\n",
       "</style>\n",
       "<table border=\"1\" class=\"dataframe\">\n",
       "  <thead>\n",
       "    <tr style=\"text-align: right;\">\n",
       "      <th></th>\n",
       "      <th>dob_year</th>\n",
       "      <th>dob_month</th>\n",
       "      <th>count</th>\n",
       "      <th>age_upon_intake_(days)</th>\n",
       "      <th>age_upon_intake_(years)</th>\n",
       "      <th>intake_month</th>\n",
       "      <th>intake_year</th>\n",
       "      <th>intake_hour</th>\n",
       "      <th>intake_number</th>\n",
       "      <th>time_in_shelter_days</th>\n",
       "      <th>age_upon_outcome_(days)</th>\n",
       "      <th>age_upon_outcome_(years)</th>\n",
       "      <th>outcome_month</th>\n",
       "      <th>outcome_year</th>\n",
       "      <th>outcome_hour</th>\n",
       "      <th>outcome_number</th>\n",
       "    </tr>\n",
       "  </thead>\n",
       "  <tbody>\n",
       "    <tr>\n",
       "      <th>count</th>\n",
       "      <td>47803.000000</td>\n",
       "      <td>47803.000000</td>\n",
       "      <td>47803.0</td>\n",
       "      <td>47803.000000</td>\n",
       "      <td>47803.000000</td>\n",
       "      <td>47803.000000</td>\n",
       "      <td>47803.000000</td>\n",
       "      <td>47803.000000</td>\n",
       "      <td>47803.000000</td>\n",
       "      <td>47803.000000</td>\n",
       "      <td>47803.000000</td>\n",
       "      <td>47803.000000</td>\n",
       "      <td>47803.000000</td>\n",
       "      <td>47803.000000</td>\n",
       "      <td>47803.000000</td>\n",
       "      <td>47803.000000</td>\n",
       "    </tr>\n",
       "    <tr>\n",
       "      <th>mean</th>\n",
       "      <td>2012.197728</td>\n",
       "      <td>6.337531</td>\n",
       "      <td>1.0</td>\n",
       "      <td>841.679915</td>\n",
       "      <td>2.305972</td>\n",
       "      <td>6.596113</td>\n",
       "      <td>2014.600046</td>\n",
       "      <td>13.549087</td>\n",
       "      <td>1.144552</td>\n",
       "      <td>17.143366</td>\n",
       "      <td>855.319729</td>\n",
       "      <td>2.343342</td>\n",
       "      <td>6.650587</td>\n",
       "      <td>2014.638893</td>\n",
       "      <td>14.381545</td>\n",
       "      <td>1.144552</td>\n",
       "    </tr>\n",
       "    <tr>\n",
       "      <th>std</th>\n",
       "      <td>3.068255</td>\n",
       "      <td>3.342038</td>\n",
       "      <td>0.0</td>\n",
       "      <td>1100.557953</td>\n",
       "      <td>3.015227</td>\n",
       "      <td>3.460172</td>\n",
       "      <td>0.905731</td>\n",
       "      <td>3.179397</td>\n",
       "      <td>0.500055</td>\n",
       "      <td>46.600727</td>\n",
       "      <td>1103.598596</td>\n",
       "      <td>3.023558</td>\n",
       "      <td>3.490263</td>\n",
       "      <td>0.912706</td>\n",
       "      <td>3.456145</td>\n",
       "      <td>0.500055</td>\n",
       "    </tr>\n",
       "    <tr>\n",
       "      <th>min</th>\n",
       "      <td>1992.000000</td>\n",
       "      <td>1.000000</td>\n",
       "      <td>1.0</td>\n",
       "      <td>0.000000</td>\n",
       "      <td>0.000000</td>\n",
       "      <td>1.000000</td>\n",
       "      <td>2013.000000</td>\n",
       "      <td>0.000000</td>\n",
       "      <td>1.000000</td>\n",
       "      <td>0.000694</td>\n",
       "      <td>0.000000</td>\n",
       "      <td>0.000000</td>\n",
       "      <td>1.000000</td>\n",
       "      <td>2013.000000</td>\n",
       "      <td>0.000000</td>\n",
       "      <td>1.000000</td>\n",
       "    </tr>\n",
       "    <tr>\n",
       "      <th>25%</th>\n",
       "      <td>2011.000000</td>\n",
       "      <td>4.000000</td>\n",
       "      <td>1.0</td>\n",
       "      <td>60.000000</td>\n",
       "      <td>0.164384</td>\n",
       "      <td>4.000000</td>\n",
       "      <td>2014.000000</td>\n",
       "      <td>11.000000</td>\n",
       "      <td>1.000000</td>\n",
       "      <td>1.049653</td>\n",
       "      <td>90.000000</td>\n",
       "      <td>0.246575</td>\n",
       "      <td>4.000000</td>\n",
       "      <td>2014.000000</td>\n",
       "      <td>12.000000</td>\n",
       "      <td>1.000000</td>\n",
       "    </tr>\n",
       "    <tr>\n",
       "      <th>50%</th>\n",
       "      <td>2013.000000</td>\n",
       "      <td>6.000000</td>\n",
       "      <td>1.0</td>\n",
       "      <td>365.000000</td>\n",
       "      <td>1.000000</td>\n",
       "      <td>7.000000</td>\n",
       "      <td>2015.000000</td>\n",
       "      <td>13.000000</td>\n",
       "      <td>1.000000</td>\n",
       "      <td>4.972222</td>\n",
       "      <td>365.000000</td>\n",
       "      <td>1.000000</td>\n",
       "      <td>7.000000</td>\n",
       "      <td>2015.000000</td>\n",
       "      <td>15.000000</td>\n",
       "      <td>1.000000</td>\n",
       "    </tr>\n",
       "    <tr>\n",
       "      <th>75%</th>\n",
       "      <td>2014.000000</td>\n",
       "      <td>9.000000</td>\n",
       "      <td>1.0</td>\n",
       "      <td>1095.000000</td>\n",
       "      <td>3.000000</td>\n",
       "      <td>10.000000</td>\n",
       "      <td>2015.000000</td>\n",
       "      <td>16.000000</td>\n",
       "      <td>1.000000</td>\n",
       "      <td>13.113889</td>\n",
       "      <td>1095.000000</td>\n",
       "      <td>3.000000</td>\n",
       "      <td>10.000000</td>\n",
       "      <td>2015.000000</td>\n",
       "      <td>17.000000</td>\n",
       "      <td>1.000000</td>\n",
       "    </tr>\n",
       "    <tr>\n",
       "      <th>max</th>\n",
       "      <td>2016.000000</td>\n",
       "      <td>12.000000</td>\n",
       "      <td>1.0</td>\n",
       "      <td>8030.000000</td>\n",
       "      <td>22.000000</td>\n",
       "      <td>12.000000</td>\n",
       "      <td>2018.000000</td>\n",
       "      <td>23.000000</td>\n",
       "      <td>13.000000</td>\n",
       "      <td>1606.194444</td>\n",
       "      <td>8030.000000</td>\n",
       "      <td>22.000000</td>\n",
       "      <td>12.000000</td>\n",
       "      <td>2018.000000</td>\n",
       "      <td>23.000000</td>\n",
       "      <td>13.000000</td>\n",
       "    </tr>\n",
       "  </tbody>\n",
       "</table>\n",
       "</div>"
      ],
      "text/plain": [
       "           dob_year     dob_month    count  age_upon_intake_(days)  \\\n",
       "count  47803.000000  47803.000000  47803.0            47803.000000   \n",
       "mean    2012.197728      6.337531      1.0              841.679915   \n",
       "std        3.068255      3.342038      0.0             1100.557953   \n",
       "min     1992.000000      1.000000      1.0                0.000000   \n",
       "25%     2011.000000      4.000000      1.0               60.000000   \n",
       "50%     2013.000000      6.000000      1.0              365.000000   \n",
       "75%     2014.000000      9.000000      1.0             1095.000000   \n",
       "max     2016.000000     12.000000      1.0             8030.000000   \n",
       "\n",
       "       age_upon_intake_(years)  intake_month   intake_year   intake_hour  \\\n",
       "count             47803.000000  47803.000000  47803.000000  47803.000000   \n",
       "mean                  2.305972      6.596113   2014.600046     13.549087   \n",
       "std                   3.015227      3.460172      0.905731      3.179397   \n",
       "min                   0.000000      1.000000   2013.000000      0.000000   \n",
       "25%                   0.164384      4.000000   2014.000000     11.000000   \n",
       "50%                   1.000000      7.000000   2015.000000     13.000000   \n",
       "75%                   3.000000     10.000000   2015.000000     16.000000   \n",
       "max                  22.000000     12.000000   2018.000000     23.000000   \n",
       "\n",
       "       intake_number  time_in_shelter_days  age_upon_outcome_(days)  \\\n",
       "count   47803.000000          47803.000000             47803.000000   \n",
       "mean        1.144552             17.143366               855.319729   \n",
       "std         0.500055             46.600727              1103.598596   \n",
       "min         1.000000              0.000694                 0.000000   \n",
       "25%         1.000000              1.049653                90.000000   \n",
       "50%         1.000000              4.972222               365.000000   \n",
       "75%         1.000000             13.113889              1095.000000   \n",
       "max        13.000000           1606.194444              8030.000000   \n",
       "\n",
       "       age_upon_outcome_(years)  outcome_month  outcome_year  outcome_hour  \\\n",
       "count              47803.000000   47803.000000  47803.000000  47803.000000   \n",
       "mean                   2.343342       6.650587   2014.638893     14.381545   \n",
       "std                    3.023558       3.490263      0.912706      3.456145   \n",
       "min                    0.000000       1.000000   2013.000000      0.000000   \n",
       "25%                    0.246575       4.000000   2014.000000     12.000000   \n",
       "50%                    1.000000       7.000000   2015.000000     15.000000   \n",
       "75%                    3.000000      10.000000   2015.000000     17.000000   \n",
       "max                   22.000000      12.000000   2018.000000     23.000000   \n",
       "\n",
       "       outcome_number  \n",
       "count    47803.000000  \n",
       "mean         1.144552  \n",
       "std          0.500055  \n",
       "min          1.000000  \n",
       "25%          1.000000  \n",
       "50%          1.000000  \n",
       "75%          1.000000  \n",
       "max         13.000000  "
      ]
     },
     "execution_count": 709,
     "metadata": {},
     "output_type": "execute_result"
    }
   ],
   "source": [
    "train.describe()"
   ]
  },
  {
   "cell_type": "markdown",
   "metadata": {},
   "source": [
    "#### Feature outcome_datetime has many missing values and it is not necessary as we have outcome date features separately. We remove that"
   ]
  },
  {
   "cell_type": "code",
   "execution_count": 710,
   "metadata": {},
   "outputs": [],
   "source": [
    "train = train.drop(['intake_datetime','outcome_datetime'],axis=1)\n",
    "test = test.drop(['intake_datetime','outcome_datetime'],axis=1)"
   ]
  },
  {
   "cell_type": "code",
   "execution_count": 711,
   "metadata": {},
   "outputs": [
    {
     "name": "stdout",
     "output_type": "stream",
     "text": [
      "<class 'pandas.core.frame.DataFrame'>\n",
      "RangeIndex: 47803 entries, 0 to 47802\n",
      "Data columns (total 35 columns):\n",
      "animal_id_outcome             47803 non-null object\n",
      "dob_year                      47803 non-null int64\n",
      "dob_month                     47803 non-null int64\n",
      "age_upon_intake               47803 non-null object\n",
      "animal_type                   47803 non-null object\n",
      "breed                         47803 non-null object\n",
      "color                         47803 non-null object\n",
      "intake_condition              47803 non-null object\n",
      "intake_type                   47803 non-null object\n",
      "sex_upon_intake               47802 non-null object\n",
      "count                         47803 non-null int64\n",
      "age_upon_intake_(days)        47803 non-null int64\n",
      "age_upon_intake_(years)       47803 non-null float64\n",
      "age_upon_intake_age_group     47803 non-null object\n",
      "intake_month                  47803 non-null int64\n",
      "intake_year                   47803 non-null int64\n",
      "intake_monthyear              47803 non-null object\n",
      "intake_weekday                47803 non-null object\n",
      "intake_hour                   47803 non-null int64\n",
      "intake_number                 47803 non-null float64\n",
      "time_in_shelter               47803 non-null object\n",
      "time_in_shelter_days          47803 non-null float64\n",
      "age_upon_outcome              47803 non-null object\n",
      "date_of_birth                 47803 non-null object\n",
      "sex_upon_outcome              47802 non-null object\n",
      "age_upon_outcome_(days)       47803 non-null int64\n",
      "age_upon_outcome_(years)      47803 non-null float64\n",
      "age_upon_outcome_age_group    47803 non-null object\n",
      "outcome_month                 47803 non-null int64\n",
      "outcome_year                  47803 non-null int64\n",
      "outcome_monthyear             47803 non-null object\n",
      "outcome_weekday               47803 non-null object\n",
      "outcome_hour                  47803 non-null int64\n",
      "outcome_number                47803 non-null float64\n",
      "outcome_type                  47803 non-null object\n",
      "dtypes: float64(5), int64(11), object(19)\n",
      "memory usage: 12.8+ MB\n"
     ]
    }
   ],
   "source": [
    "train.info()"
   ]
  },
  {
   "cell_type": "code",
   "execution_count": 712,
   "metadata": {},
   "outputs": [
    {
     "name": "stdout",
     "output_type": "stream",
     "text": [
      "<class 'pandas.core.frame.DataFrame'>\n",
      "RangeIndex: 31869 entries, 0 to 31868\n",
      "Data columns (total 34 columns):\n",
      "animal_id_outcome             31869 non-null object\n",
      "dob_year                      31869 non-null int64\n",
      "dob_month                     31869 non-null int64\n",
      "age_upon_intake               31869 non-null object\n",
      "animal_type                   31869 non-null object\n",
      "breed                         31869 non-null object\n",
      "color                         31869 non-null object\n",
      "intake_condition              31869 non-null object\n",
      "intake_type                   31869 non-null object\n",
      "sex_upon_intake               31869 non-null object\n",
      "count                         31869 non-null int64\n",
      "age_upon_intake_(days)        31869 non-null int64\n",
      "age_upon_intake_(years)       31869 non-null float64\n",
      "age_upon_intake_age_group     31869 non-null object\n",
      "intake_month                  31869 non-null int64\n",
      "intake_year                   31869 non-null int64\n",
      "intake_monthyear              31869 non-null object\n",
      "intake_weekday                31869 non-null object\n",
      "intake_hour                   31869 non-null int64\n",
      "intake_number                 31869 non-null int64\n",
      "time_in_shelter               31869 non-null object\n",
      "time_in_shelter_days          31869 non-null float64\n",
      "age_upon_outcome              31869 non-null object\n",
      "date_of_birth                 31869 non-null object\n",
      "sex_upon_outcome              31869 non-null object\n",
      "age_upon_outcome_(days)       31869 non-null int64\n",
      "age_upon_outcome_(years)      31869 non-null float64\n",
      "age_upon_outcome_age_group    31869 non-null object\n",
      "outcome_month                 31869 non-null int64\n",
      "outcome_year                  31869 non-null int64\n",
      "outcome_monthyear             31869 non-null object\n",
      "outcome_weekday               31869 non-null object\n",
      "outcome_hour                  31869 non-null int64\n",
      "outcome_number                31869 non-null int64\n",
      "dtypes: float64(3), int64(13), object(18)\n",
      "memory usage: 8.3+ MB\n"
     ]
    }
   ],
   "source": [
    "test.info()"
   ]
  },
  {
   "cell_type": "markdown",
   "metadata": {},
   "source": [
    "#### Since the data doesnot contain any missing values we don not need any techniques for it . We can directly analyze it. "
   ]
  },
  {
   "cell_type": "code",
   "execution_count": 713,
   "metadata": {
    "scrolled": true
   },
   "outputs": [
    {
     "data": {
      "text/html": [
       "<div>\n",
       "<style scoped>\n",
       "    .dataframe tbody tr th:only-of-type {\n",
       "        vertical-align: middle;\n",
       "    }\n",
       "\n",
       "    .dataframe tbody tr th {\n",
       "        vertical-align: top;\n",
       "    }\n",
       "\n",
       "    .dataframe thead th {\n",
       "        text-align: right;\n",
       "    }\n",
       "</style>\n",
       "<table border=\"1\" class=\"dataframe\">\n",
       "  <thead>\n",
       "    <tr style=\"text-align: right;\">\n",
       "      <th></th>\n",
       "      <th>animal_id_outcome</th>\n",
       "      <th>dob_year</th>\n",
       "      <th>dob_month</th>\n",
       "      <th>age_upon_intake</th>\n",
       "      <th>animal_type</th>\n",
       "      <th>breed</th>\n",
       "      <th>color</th>\n",
       "      <th>intake_condition</th>\n",
       "      <th>intake_type</th>\n",
       "      <th>sex_upon_intake</th>\n",
       "      <th>...</th>\n",
       "      <th>age_upon_outcome_(days)</th>\n",
       "      <th>age_upon_outcome_(years)</th>\n",
       "      <th>age_upon_outcome_age_group</th>\n",
       "      <th>outcome_month</th>\n",
       "      <th>outcome_year</th>\n",
       "      <th>outcome_monthyear</th>\n",
       "      <th>outcome_weekday</th>\n",
       "      <th>outcome_hour</th>\n",
       "      <th>outcome_number</th>\n",
       "      <th>outcome_type</th>\n",
       "    </tr>\n",
       "  </thead>\n",
       "  <tbody>\n",
       "    <tr>\n",
       "      <th>0</th>\n",
       "      <td>A006100</td>\n",
       "      <td>2007</td>\n",
       "      <td>7</td>\n",
       "      <td>10 years</td>\n",
       "      <td>Dog</td>\n",
       "      <td>Spinone Italiano Mix</td>\n",
       "      <td>Yellow/White</td>\n",
       "      <td>Normal</td>\n",
       "      <td>Stray</td>\n",
       "      <td>Neutered Male</td>\n",
       "      <td>...</td>\n",
       "      <td>3650</td>\n",
       "      <td>10.0</td>\n",
       "      <td>(7.5, 10.0]</td>\n",
       "      <td>12</td>\n",
       "      <td>2017</td>\n",
       "      <td>2017-12</td>\n",
       "      <td>Thursday</td>\n",
       "      <td>0</td>\n",
       "      <td>1.0</td>\n",
       "      <td>Return to Owner</td>\n",
       "    </tr>\n",
       "    <tr>\n",
       "      <th>1</th>\n",
       "      <td>A006100</td>\n",
       "      <td>2007</td>\n",
       "      <td>7</td>\n",
       "      <td>7 years</td>\n",
       "      <td>Dog</td>\n",
       "      <td>Spinone Italiano Mix</td>\n",
       "      <td>Yellow/White</td>\n",
       "      <td>Normal</td>\n",
       "      <td>Public Assist</td>\n",
       "      <td>Neutered Male</td>\n",
       "      <td>...</td>\n",
       "      <td>2555</td>\n",
       "      <td>7.0</td>\n",
       "      <td>(5.0, 7.5]</td>\n",
       "      <td>12</td>\n",
       "      <td>2014</td>\n",
       "      <td>2014-12</td>\n",
       "      <td>Saturday</td>\n",
       "      <td>16</td>\n",
       "      <td>2.0</td>\n",
       "      <td>Return to Owner</td>\n",
       "    </tr>\n",
       "    <tr>\n",
       "      <th>2</th>\n",
       "      <td>A006100</td>\n",
       "      <td>2007</td>\n",
       "      <td>7</td>\n",
       "      <td>6 years</td>\n",
       "      <td>Dog</td>\n",
       "      <td>Spinone Italiano Mix</td>\n",
       "      <td>Yellow/White</td>\n",
       "      <td>Normal</td>\n",
       "      <td>Public Assist</td>\n",
       "      <td>Neutered Male</td>\n",
       "      <td>...</td>\n",
       "      <td>2190</td>\n",
       "      <td>6.0</td>\n",
       "      <td>(5.0, 7.5]</td>\n",
       "      <td>3</td>\n",
       "      <td>2014</td>\n",
       "      <td>2014-03</td>\n",
       "      <td>Saturday</td>\n",
       "      <td>17</td>\n",
       "      <td>3.0</td>\n",
       "      <td>Return to Owner</td>\n",
       "    </tr>\n",
       "    <tr>\n",
       "      <th>3</th>\n",
       "      <td>A047759</td>\n",
       "      <td>2004</td>\n",
       "      <td>4</td>\n",
       "      <td>10 years</td>\n",
       "      <td>Dog</td>\n",
       "      <td>Dachshund</td>\n",
       "      <td>Tricolor</td>\n",
       "      <td>Normal</td>\n",
       "      <td>Owner Surrender</td>\n",
       "      <td>Neutered Male</td>\n",
       "      <td>...</td>\n",
       "      <td>3650</td>\n",
       "      <td>10.0</td>\n",
       "      <td>(7.5, 10.0]</td>\n",
       "      <td>4</td>\n",
       "      <td>2014</td>\n",
       "      <td>2014-04</td>\n",
       "      <td>Monday</td>\n",
       "      <td>15</td>\n",
       "      <td>1.0</td>\n",
       "      <td>Missing</td>\n",
       "    </tr>\n",
       "    <tr>\n",
       "      <th>4</th>\n",
       "      <td>A134067</td>\n",
       "      <td>1997</td>\n",
       "      <td>10</td>\n",
       "      <td>16 years</td>\n",
       "      <td>Dog</td>\n",
       "      <td>Shetland Sheepdog</td>\n",
       "      <td>Brown/White</td>\n",
       "      <td>Injured</td>\n",
       "      <td>Public Assist</td>\n",
       "      <td>Neutered Male</td>\n",
       "      <td>...</td>\n",
       "      <td>5840</td>\n",
       "      <td>16.0</td>\n",
       "      <td>(15.0, 17.5]</td>\n",
       "      <td>11</td>\n",
       "      <td>2013</td>\n",
       "      <td>2013-11</td>\n",
       "      <td>Saturday</td>\n",
       "      <td>11</td>\n",
       "      <td>1.0</td>\n",
       "      <td>Return to Owner</td>\n",
       "    </tr>\n",
       "  </tbody>\n",
       "</table>\n",
       "<p>5 rows × 35 columns</p>\n",
       "</div>"
      ],
      "text/plain": [
       "  animal_id_outcome  dob_year  dob_month age_upon_intake animal_type  \\\n",
       "0           A006100      2007          7        10 years         Dog   \n",
       "1           A006100      2007          7         7 years         Dog   \n",
       "2           A006100      2007          7         6 years         Dog   \n",
       "3           A047759      2004          4        10 years         Dog   \n",
       "4           A134067      1997         10        16 years         Dog   \n",
       "\n",
       "                  breed         color intake_condition      intake_type  \\\n",
       "0  Spinone Italiano Mix  Yellow/White           Normal            Stray   \n",
       "1  Spinone Italiano Mix  Yellow/White           Normal    Public Assist   \n",
       "2  Spinone Italiano Mix  Yellow/White           Normal    Public Assist   \n",
       "3             Dachshund      Tricolor           Normal  Owner Surrender   \n",
       "4     Shetland Sheepdog   Brown/White          Injured    Public Assist   \n",
       "\n",
       "  sex_upon_intake  ...  age_upon_outcome_(days)  age_upon_outcome_(years)  \\\n",
       "0   Neutered Male  ...                     3650                      10.0   \n",
       "1   Neutered Male  ...                     2555                       7.0   \n",
       "2   Neutered Male  ...                     2190                       6.0   \n",
       "3   Neutered Male  ...                     3650                      10.0   \n",
       "4   Neutered Male  ...                     5840                      16.0   \n",
       "\n",
       "   age_upon_outcome_age_group outcome_month  outcome_year  outcome_monthyear  \\\n",
       "0                 (7.5, 10.0]            12          2017            2017-12   \n",
       "1                  (5.0, 7.5]            12          2014            2014-12   \n",
       "2                  (5.0, 7.5]             3          2014            2014-03   \n",
       "3                 (7.5, 10.0]             4          2014            2014-04   \n",
       "4                (15.0, 17.5]            11          2013            2013-11   \n",
       "\n",
       "  outcome_weekday outcome_hour  outcome_number     outcome_type  \n",
       "0        Thursday            0             1.0  Return to Owner  \n",
       "1        Saturday           16             2.0  Return to Owner  \n",
       "2        Saturday           17             3.0  Return to Owner  \n",
       "3          Monday           15             1.0          Missing  \n",
       "4        Saturday           11             1.0  Return to Owner  \n",
       "\n",
       "[5 rows x 35 columns]"
      ]
     },
     "execution_count": 713,
     "metadata": {},
     "output_type": "execute_result"
    }
   ],
   "source": [
    "train.head()"
   ]
  },
  {
   "cell_type": "markdown",
   "metadata": {},
   "source": [
    "#### Starting with dob_year we can make different dob_group based on the range"
   ]
  },
  {
   "cell_type": "code",
   "execution_count": 714,
   "metadata": {},
   "outputs": [],
   "source": [
    "import re\n",
    "data = [train,test]\n",
    "for dataset in data:\n",
    "    dataset['dob_year'] = dataset['dob_year'].astype(int)\n",
    "    dataset.loc[ dataset['dob_year'] <= 1995, 'dob_group'] = 0\n",
    "    dataset.loc[(dataset['dob_year'] > 1995) & (dataset['dob_year'] <= 2000), 'dob_group'] = 1\n",
    "    dataset.loc[(dataset['dob_year'] > 2000) & (dataset['dob_year'] <= 2005), 'dob_group'] = 2\n",
    "    dataset.loc[(dataset['dob_year'] > 2005) & (dataset['dob_year'] <= 2010), 'dob_group'] = 3\n",
    "    dataset.loc[(dataset['dob_year'] > 2010) & (dataset['dob_year'] <= 2015), 'dob_group'] = 4\n",
    "    dataset.loc[ dataset['dob_year'] > 2015, 'dob_group'] = 5"
   ]
  },
  {
   "cell_type": "markdown",
   "metadata": {},
   "source": [
    "### Visualizing 'outcome_type' and 'dob_group'"
   ]
  },
  {
   "cell_type": "code",
   "execution_count": 715,
   "metadata": {},
   "outputs": [
    {
     "name": "stderr",
     "output_type": "stream",
     "text": [
      "G:\\Anaconda3\\lib\\site-packages\\scipy\\stats\\stats.py:1713: FutureWarning: Using a non-tuple sequence for multidimensional indexing is deprecated; use `arr[tuple(seq)]` instead of `arr[seq]`. In the future this will be interpreted as an array index, `arr[np.array(seq)]`, which will result either in an error or a different result.\n",
      "  return np.add.reduce(sorted[indexer] * weights, axis=axis) / sumval\n"
     ]
    },
    {
     "data": {
      "text/plain": [
       "<matplotlib.axes._subplots.AxesSubplot at 0x1fa8ee29518>"
      ]
     },
     "execution_count": 715,
     "metadata": {},
     "output_type": "execute_result"
    },
    {
     "data": {
      "image/png": "[encoded data removed]",
      "text/plain": [
       "<Figure size 432x288 with 1 Axes>"
      ]
     },
     "metadata": {
      "needs_background": "light"
     },
     "output_type": "display_data"
    }
   ],
   "source": [
    "import seaborn as sns\n",
    "sns.barplot(x='dob_group',y='outcome_type',data=train)"
   ]
  },
  {
   "cell_type": "markdown",
   "metadata": {},
   "source": [
    "#### Remove Duplicates (if any)"
   ]
  },
  {
   "cell_type": "code",
   "execution_count": 716,
   "metadata": {},
   "outputs": [],
   "source": [
    "train.drop_duplicates(subset='animal_id_outcome', keep='first', inplace=True)"
   ]
  },
  {
   "cell_type": "markdown",
   "metadata": {},
   "source": [
    "#### As three features  'age_upon_intake' ,  'age_upon_intake_(days)' , 'age_upon_intake_(years)'  represent the age only, we will keep only one and drop the other two"
   ]
  },
  {
   "cell_type": "code",
   "execution_count": 717,
   "metadata": {},
   "outputs": [],
   "source": [
    "train = train.drop(['age_upon_intake','age_upon_intake_(days)'],axis=1)\n",
    "test = test.drop(['age_upon_intake','age_upon_intake_(days)'],axis=1)\n"
   ]
  },
  {
   "cell_type": "code",
   "execution_count": 718,
   "metadata": {},
   "outputs": [],
   "source": [
    "train['age_upon_intake'] = train['age_upon_intake_(years)']\n",
    "test['age_upon_intake'] = test['age_upon_intake_(years)']"
   ]
  },
  {
   "cell_type": "markdown",
   "metadata": {},
   "source": [
    "### Visualizing age upon intake"
   ]
  },
  {
   "cell_type": "markdown",
   "metadata": {},
   "source": [
    "We can observe that the most common age intake is 1 years and the second most is 2 years"
   ]
  },
  {
   "cell_type": "code",
   "execution_count": 719,
   "metadata": {},
   "outputs": [
    {
     "data": {
      "text/plain": [
       "<matplotlib.axes._subplots.AxesSubplot at 0x1fa8608e710>"
      ]
     },
     "execution_count": 719,
     "metadata": {},
     "output_type": "execute_result"
    },
    {
     "data": {
      "image/png": "[encoded data removed]",
      "text/plain": [
       "<Figure size 1440x720 with 1 Axes>"
      ]
     },
     "metadata": {
      "needs_background": "light"
     },
     "output_type": "display_data"
    }
   ],
   "source": [
    "age= train['age_upon_intake'].value_counts().head(8)\n",
    "plt.figure(figsize=(20,10))\n",
    "sns.barplot(age.index, age.values)"
   ]
  },
  {
   "cell_type": "markdown",
   "metadata": {},
   "source": [
    "#### As there are many features that can be classified I created a function that can easily convert objects to numerical classes for feeding it into the DataFrame"
   ]
  },
  {
   "cell_type": "code",
   "execution_count": 720,
   "metadata": {},
   "outputs": [],
   "source": [
    "my_dict={}\n",
    "def func(my_list):\n",
    "    x=0\n",
    "    for i in my_list:\n",
    "        val = i\n",
    "        my_dict[val]=x\n",
    "        x=x+1"
   ]
  },
  {
   "cell_type": "markdown",
   "metadata": {},
   "source": [
    "### Working on type of animals "
   ]
  },
  {
   "cell_type": "markdown",
   "metadata": {},
   "source": [
    "##### We observe that almost 90% of animals in Welfare Centers are Dogs and Cats. So will study about Dogs and Cats more"
   ]
  },
  {
   "cell_type": "code",
   "execution_count": 721,
   "metadata": {},
   "outputs": [
    {
     "data": {
      "text/plain": [
       "<matplotlib.axes._subplots.AxesSubplot at 0x1fad0d2cda0>"
      ]
     },
     "execution_count": 721,
     "metadata": {},
     "output_type": "execute_result"
    },
    {
     "data": {
      "image/png": "[encoded data removed]",
      "text/plain": [
       "<Figure size 864x576 with 1 Axes>"
      ]
     },
     "metadata": {
      "needs_background": "light"
     },
     "output_type": "display_data"
    }
   ],
   "source": [
    "animal_intake = train['animal_type'].value_counts().head(15)\n",
    "plt.figure(figsize=(12,8))\n",
    "sns.barplot(animal_intake.index, animal_intake.values)"
   ]
  },
  {
   "cell_type": "markdown",
   "metadata": {},
   "source": [
    "#### This makes Dogs- '0' , Cats - '1' , Others - '2' , Birds - '3'  and we also observe that  the amount of Birds is nearly negligible"
   ]
  },
  {
   "cell_type": "code",
   "execution_count": 722,
   "metadata": {},
   "outputs": [],
   "source": [
    "animaltype = train.animal_type.unique()\n",
    "my_dict={}\n",
    "func(animaltype)\n",
    "data = [train,test]\n",
    "for dataset in data:\n",
    "    dataset['animal_type_numeric'] = dataset['animal_type'].map(my_dict)"
   ]
  },
  {
   "cell_type": "code",
   "execution_count": 723,
   "metadata": {},
   "outputs": [
    {
     "data": {
      "text/plain": [
       "<matplotlib.axes._subplots.AxesSubplot at 0x1fa8d939710>"
      ]
     },
     "execution_count": 723,
     "metadata": {},
     "output_type": "execute_result"
    },
    {
     "data": {
      "image/png": "[encoded data removed]",
      "text/plain": [
       "<Figure size 864x576 with 1 Axes>"
      ]
     },
     "metadata": {
      "needs_background": "light"
     },
     "output_type": "display_data"
    }
   ],
   "source": [
    "plt.figure(figsize=(12,8))\n",
    "sns.barplot(x='outcome_type',y='animal_type_numeric',data=train)"
   ]
  },
  {
   "cell_type": "markdown",
   "metadata": {},
   "source": [
    "#### We obserse that outcome of most of  'Other Animals' is  'Disposal'  while animals which are  'Returned to Owner'  are mostly 'Dogs'"
   ]
  },
  {
   "cell_type": "markdown",
   "metadata": {},
   "source": [
    "### Age upon Intake vs Animal Type"
   ]
  },
  {
   "cell_type": "markdown",
   "metadata": {},
   "source": [
    "#### We observe that Dogs are mostly of average age 3 years during Intake while all other animals average age is between 1-2 years"
   ]
  },
  {
   "cell_type": "code",
   "execution_count": 724,
   "metadata": {},
   "outputs": [
    {
     "data": {
      "text/plain": [
       "<matplotlib.axes._subplots.AxesSubplot at 0x1faa0f3dd68>"
      ]
     },
     "execution_count": 724,
     "metadata": {},
     "output_type": "execute_result"
    },
    {
     "data": {
      "image/png": "[encoded data removed]",
      "text/plain": [
       "<Figure size 432x288 with 1 Axes>"
      ]
     },
     "metadata": {
      "needs_background": "light"
     },
     "output_type": "display_data"
    }
   ],
   "source": [
    "sns.barplot(x='animal_type', y='age_upon_intake',data=train)"
   ]
  },
  {
   "cell_type": "markdown",
   "metadata": {},
   "source": [
    "### Analyzing Breed of Animals"
   ]
  },
  {
   "cell_type": "code",
   "execution_count": 725,
   "metadata": {},
   "outputs": [],
   "source": [
    "breeds = train.breed.unique().tolist()\n",
    "breeds1 = test.breed.unique().tolist()\n",
    "breeds_new = set( breeds + breeds1 ) "
   ]
  },
  {
   "cell_type": "markdown",
   "metadata": {},
   "source": [
    "#### We observe the Top 10 breeds of the animals"
   ]
  },
  {
   "cell_type": "code",
   "execution_count": 726,
   "metadata": {},
   "outputs": [
    {
     "data": {
      "text/plain": [
       "Domestic Shorthair Mix       12752\n",
       "Pit Bull Mix                  2988\n",
       "Chihuahua Shorthair Mix       2676\n",
       "Labrador Retriever Mix        2083\n",
       "Domestic Medium Hair Mix      1218\n",
       "German Shepherd Mix            899\n",
       "Domestic Longhair Mix          788\n",
       "Bat Mix                        744\n",
       "Siamese Mix                    583\n",
       "Australian Cattle Dog Mix      575\n",
       "Name: breed, dtype: int64"
      ]
     },
     "execution_count": 726,
     "metadata": {},
     "output_type": "execute_result"
    }
   ],
   "source": [
    "train['breed'].value_counts().head(10)"
   ]
  },
  {
   "cell_type": "code",
   "execution_count": 727,
   "metadata": {},
   "outputs": [
    {
     "data": {
      "text/plain": [
       "Pit Bull Mix                 2988\n",
       "Chihuahua Shorthair Mix      2676\n",
       "Labrador Retriever Mix       2083\n",
       "German Shepherd Mix           899\n",
       "Australian Cattle Dog Mix     575\n",
       "Name: breed, dtype: int64"
      ]
     },
     "execution_count": 727,
     "metadata": {},
     "output_type": "execute_result"
    }
   ],
   "source": [
    "dogs = train[train['animal_type_numeric']==0]\n",
    "cats = train[train['animal_type_numeric']==1]\n",
    "dogs['breed'].value_counts().head(5)"
   ]
  },
  {
   "cell_type": "code",
   "execution_count": 728,
   "metadata": {},
   "outputs": [
    {
     "data": {
      "text/plain": [
       "Domestic Shorthair Mix      12752\n",
       "Domestic Medium Hair Mix     1218\n",
       "Domestic Longhair Mix         788\n",
       "Siamese Mix                   583\n",
       "Domestic Shorthair            210\n",
       "Name: breed, dtype: int64"
      ]
     },
     "execution_count": 728,
     "metadata": {},
     "output_type": "execute_result"
    }
   ],
   "source": [
    "cats['breed'].value_counts().head(5)"
   ]
  },
  {
   "cell_type": "markdown",
   "metadata": {},
   "source": [
    "#### We observed that there were more Dogs than Cats.  Here we saw that almost all cats are of Domestic Shorthair breed. While breed of Dogs is varying with Pit Bull Mix being highest"
   ]
  },
  {
   "cell_type": "markdown",
   "metadata": {},
   "source": [
    "#### Total breeds in the data"
   ]
  },
  {
   "cell_type": "code",
   "execution_count": 729,
   "metadata": {},
   "outputs": [
    {
     "name": "stdout",
     "output_type": "stream",
     "text": [
      "1847\n"
     ]
    },
    {
     "data": {
      "text/plain": [
       "numpy.ndarray"
      ]
     },
     "execution_count": 729,
     "metadata": {},
     "output_type": "execute_result"
    }
   ],
   "source": [
    "train_breed = train.breed.unique()\n",
    "print(train_breed.size)\n",
    "type(train_breed)"
   ]
  },
  {
   "cell_type": "code",
   "execution_count": 730,
   "metadata": {},
   "outputs": [
    {
     "data": {
      "text/plain": [
       "1086"
      ]
     },
     "execution_count": 730,
     "metadata": {},
     "output_type": "execute_result"
    }
   ],
   "source": [
    "test_breed = test.breed.unique()\n",
    "test_breed.size\n"
   ]
  },
  {
   "cell_type": "code",
   "execution_count": 731,
   "metadata": {},
   "outputs": [
    {
     "data": {
      "text/plain": [
       "2155"
      ]
     },
     "execution_count": 731,
     "metadata": {},
     "output_type": "execute_result"
    }
   ],
   "source": [
    "all_breeds = set(train_breed.tolist() + test_breed.tolist())\n",
    "len(all_breeds)"
   ]
  },
  {
   "cell_type": "markdown",
   "metadata": {},
   "source": [
    "#### This implies the  data contains some breeds of animals that are not present in training or test data"
   ]
  },
  {
   "cell_type": "markdown",
   "metadata": {},
   "source": [
    "### Colour of animals "
   ]
  },
  {
   "cell_type": "code",
   "execution_count": 732,
   "metadata": {},
   "outputs": [
    {
     "name": "stdout",
     "output_type": "stream",
     "text": [
      "1847\n"
     ]
    }
   ],
   "source": [
    "colour = train.color.unique()\n",
    "print(train_breed.size)\n",
    " "
   ]
  },
  {
   "cell_type": "code",
   "execution_count": 733,
   "metadata": {},
   "outputs": [
    {
     "data": {
      "text/plain": [
       "array(['Yellow/White', 'Tricolor', 'Brown/White', 'Black/White',\n",
       "       'Black/Gray', 'White/Black', 'Brown Tabby/White', 'Black/Tan',\n",
       "       'Tan/Black', 'Black', 'Gold/Gold', 'Sable/White', 'Blue Merle/Tan',\n",
       "       'Blue Merle', 'Brown/Black', 'Black/Tricolor', 'Gray/White',\n",
       "       'Black/Black', 'Tan', 'Black/Brown', 'Cream', 'Red', 'Yellow',\n",
       "       'Gray Tabby/White', 'Brown Merle', 'White', 'White/Brown',\n",
       "       'Tortie', 'White/Gray Tabby', 'Black/Brown Brindle',\n",
       "       'Black Smoke/White', 'Brown/Tan', 'Orange Tabby/White',\n",
       "       'Blue Cream/Tortie', 'Lynx Point', 'Brown/Buff', 'Red Merle',\n",
       "       'Calico', 'Brown', 'Brown/Cream', 'Blue/White', 'Red/White',\n",
       "       'Tan/White', 'Lilac Point', 'Gold', 'Brown Tabby', 'Red/Black',\n",
       "       'Black Brindle', 'Brown/Blue Merle', 'Blue', 'Red/Tan',\n",
       "       'Black/Red', 'Chocolate', 'Brown Tabby/Agouti', 'Blue Point',\n",
       "       'Silver Tabby', 'Brown Brindle/White', 'Cream/White',\n",
       "       'Blue Merle/White', 'White/Liver', 'White/Cream', 'Blue/Tan',\n",
       "       'Seal Point', 'Cream/Tan', 'Flame Point', 'White/Tan', 'Red/Brown',\n",
       "       'Chocolate/White', 'White/Brown Merle', 'Black/Cream',\n",
       "       'Brown Brindle', 'White/Gray', 'Brown Merle/White', 'Yellow/Tan',\n",
       "       'Tortie/Blue Cream', 'Blue Tick/Brown', 'Gold/White', 'Apricot',\n",
       "       'White/Tricolor', 'Black/Blue Tick', 'Buff/Tan', 'Chocolate Point',\n",
       "       'Black Tabby', 'Tan/Buff', 'Buff/Yellow', 'Silver/White',\n",
       "       'Seal Point/White', 'White/Brown Brindle', 'Chocolate/Tan',\n",
       "       'Tan/Gray', 'White/Red', 'Black Brindle/White', 'White/Red Tick',\n",
       "       'Gray', 'Blue Tick', 'White/Brown Tabby', 'White/Gold',\n",
       "       'Blue Cream', 'Cream/Black', 'Black Smoke', 'Sable',\n",
       "       'Silver/Brown', 'Buff', 'Buff/White', 'Brown Tabby/Orange',\n",
       "       'Flame Point/White', 'Blue Tabby/White', 'Tan/Silver',\n",
       "       'Cream Tabby/White', 'Blue Tabby', 'Orange Tabby',\n",
       "       'White/Orange Tabby', 'Torbie', 'Silver', 'Calico Point',\n",
       "       'Tan/Tan', 'Buff/Gray', 'White/Red Merle', 'White/White',\n",
       "       'Gray/Black', 'Tortie Point', 'Blue Tick/White',\n",
       "       'Brown/Brown Merle', 'Brown/Tricolor', 'Black Brindle/Brown',\n",
       "       'White/Chocolate', 'Fawn/Black', 'White/Blue', 'Blue Tick/Black',\n",
       "       'Brown/Brown Brindle', 'Tan/Cream', 'White/Blue Merle',\n",
       "       'Brown Brindle/Tan', 'Fawn/White', 'White/Buff', 'Cream/Yellow',\n",
       "       'White/Black Brindle', 'Blue Merle/Black', 'Gray/Gold',\n",
       "       'White/Lynx Point', 'Red Tick', 'White/Liver Tick', 'Brown/Red',\n",
       "       'Liver/White', 'Black/Blue', 'Black Tiger/White', 'Fawn',\n",
       "       'Chocolate/Chocolate', 'Red Tick/Red', 'Fawn/Blue', 'White/Orange',\n",
       "       'Orange/White', 'Tricolor/Tricolor', 'Blue Tiger/White',\n",
       "       'Brown/Red Tick', 'Fawn/Tricolor', 'Yellow Brindle/White',\n",
       "       'Black/Yellow', 'Tricolor/White', 'Gray/Tricolor',\n",
       "       'Blue Point/White', 'Cream/Red', 'Blue/Brown', 'White/Apricot',\n",
       "       'Red Tick/White', 'White/Seal Point', 'Blue Merle/Brown',\n",
       "       'Cream Tabby', 'Chocolate/Liver Tick', 'Silver/Tan', 'Gold/Brown',\n",
       "       'Tricolor/Black', 'Tan/Tricolor', 'Tan/Brown', 'Black/Orange',\n",
       "       'Gray/Cream', 'White/Brown Tiger', 'White/Blue Cream',\n",
       "       'Red Tick/Brown', 'Tan/Blue', 'White/Silver', 'Cream/Gray',\n",
       "       'Red Merle/White', 'Blue Cream/White', 'Black/Black Brindle',\n",
       "       'White/Yellow Brindle', 'Gray/Tan', 'Tortie/White',\n",
       "       'Black/Blue Merle', 'Silver/Black', 'Tan/Brown Merle',\n",
       "       'Brown/Brown', 'Black/Brown Merle', 'Blue/Cream',\n",
       "       'Red Tick/Blue Tick', 'Brown Brindle/Gray', 'Black/Silver',\n",
       "       'Sable/Tan', 'Tan/Yellow Brindle', 'Sable/Black',\n",
       "       'Black Tabby/White', 'White/Yellow', 'Blue Merle/Cream',\n",
       "       'Chocolate/Gray', 'Chocolate/Tricolor', 'Gray/Brown',\n",
       "       'Torbie/White', 'Calico/White', 'Red/Buff', 'Fawn/Tan',\n",
       "       'Gold/Buff', 'Brown Tiger', 'Blue/Black', 'Buff/Black',\n",
       "       'Red/Cream', 'Cream/Seal Point', 'Yellow/Gray', 'Red Tick/Tan',\n",
       "       'Red Tick/Brown Merle', 'Brown Tabby/Black', 'Green',\n",
       "       'Tricolor/Chocolate', 'Apricot/White', 'Chocolate/Brown',\n",
       "       'Brown Brindle/Brown Merle', 'Brown Brindle/Black',\n",
       "       'Brown Brindle/Blue Cream', 'Red/Tricolor', 'Orange',\n",
       "       'Gray/Orange', 'Calico/Brown Tabby', 'Tricolor/Blue',\n",
       "       'Silver Tabby/White', 'Gray/Red', 'Red Merle/Black',\n",
       "       'Blue Cream/Blue Tabby', 'Brown/Silver', 'Yellow/Black',\n",
       "       'Gray Tabby', 'Black/Chocolate', 'Brown/Yellow',\n",
       "       'Lynx Point/Brown Tabby', 'Lynx Point/White', 'Brown Tabby/Tortie',\n",
       "       'Lynx Point/Gray Tabby', 'Brown/Gray', 'White/Blue Tabby',\n",
       "       'Red/Red Tick', 'Silver/Chocolate', 'Blue Tabby/Blue Cream',\n",
       "       'Tricolor/Brown', 'Black/Black Smoke', 'Tan/Red',\n",
       "       'Sable/Red Merle', 'Brown Brindle/Blue Tick',\n",
       "       'Black Brindle/Blue Tick', 'Blue/Brown Brindle',\n",
       "       'Tricolor/Blue Merle', 'Blue Cream/Buff', 'Blue Merle/Tricolor',\n",
       "       'Blue Tick/Tan', 'Calico/Blue Cream', 'Tan/Yellow',\n",
       "       'Blue Merle/Gray', 'Blue Smoke/Brown', 'Chocolate/Red',\n",
       "       'Ruddy/Cream', 'Chocolate Point/White', 'Brown Merle/Black',\n",
       "       'Brown/Red Merle', 'Blue/Tricolor', 'Red/Gray',\n",
       "       'White/Cream Tabby', 'Tricolor/Tan', 'Calico Point/White',\n",
       "       'Black Smoke/Black', 'Black/Buff', 'Brown/Black Brindle',\n",
       "       'Sable/Brown', 'White/Pink', 'Yellow Brindle', 'Gray/Pink',\n",
       "       'Blue Tick/Brown Brindle', 'Fawn/Brown', 'Gold/Black',\n",
       "       'Gold/Yellow', 'Tortie/Orange', 'Blue Tick/Red Tick',\n",
       "       'Calico/Orange Tabby', 'Chocolate/Black', 'Pink',\n",
       "       'Calico/Blue Tabby', 'Agouti/Gray', 'Red/Red Merle', 'Gray/Yellow',\n",
       "       'Tan/Apricot', 'Liver/Tan', 'White/Black Tabby', 'Brown/Orange',\n",
       "       'Yellow/Brown', 'Blue Merle/Red', 'Liver Tick/White', 'Red/Silver',\n",
       "       'Brown Tabby/Gray Tabby', 'Red Tick/Black', 'Agouti/Brown Tabby',\n",
       "       'Tortie/Black', 'Sable/Buff', 'Green/Yellow',\n",
       "       'Brown Brindle/Brown', 'Silver Lynx Point', 'Gray/Tortie',\n",
       "       'Silver Tabby/Black', 'Tricolor/Blue Tick',\n",
       "       'Black Brindle/Brown Brindle', 'Gold/Tan', 'Liver/Buff',\n",
       "       'Seal Point/Gray', 'Brown/Chocolate', 'Green/White', 'Buff/Brown',\n",
       "       'Blue Tabby/Black', 'Black Tabby/Black', 'Agouti', 'Apricot/Brown',\n",
       "       'Blue Tiger', 'Blue Merle/Red Merle', 'Blue/Gray', 'Gray/Blue',\n",
       "       'Brown Brindle/Red Tick', 'Chocolate/Brown Merle',\n",
       "       'Brown Tabby/Black Brindle', 'Brown Tabby/Brown',\n",
       "       'Fawn/Brown Brindle', 'Cream/Orange', 'Chocolate/Brown Brindle',\n",
       "       'White/Black Smoke', 'Chocolate/Red Tick', 'Orange Tiger',\n",
       "       'Cream/Red Tick', 'Lilac Point/White', 'Green/Blue',\n",
       "       'Chocolate/Cream', 'White/Flame Point', 'Brown Merle/Tan',\n",
       "       'Blue Tabby/Cream', 'Black Smoke/Brown Tabby', 'Calico/Black',\n",
       "       'White/Gray Tiger', 'Orange/Tan', 'Gray Tabby/Black',\n",
       "       'Brown Brindle/Blue', 'Tortie/Calico', 'Liver Tick',\n",
       "       'Red Merle/Tan', 'Gray/Silver', 'Torbie/Blue Cream',\n",
       "       'Chocolate Point/Cream', 'Yellow Brindle/Blue', 'Red/Blue',\n",
       "       'Blue Tick/Red', 'White/Blue Tick', 'Black/Yellow Brindle',\n",
       "       'Blue Cream/Blue Tiger', 'Tan/Gold', 'Red/Green',\n",
       "       'Blue Merle/Blue Merle', 'Black/Green', 'White/Calico',\n",
       "       'Orange/Brown', 'Brown Tiger/White', 'Sable/Cream',\n",
       "       'Blue Merle/Brown Brindle', 'Blue/Calico', 'Green/Orange',\n",
       "       'Orange Tabby/Orange', 'Tan/Brown Brindle', 'Black Brindle/Black',\n",
       "       'Brown Brindle/Brown Brindle', 'Liver', 'Brown/Blue',\n",
       "       'Tricolor/Silver', 'Yellow/Yellow', 'Sable/Red', 'Chocolate/Gold',\n",
       "       'Apricot/Tricolor', 'Calico/Tricolor', 'Blue/Yellow Brindle',\n",
       "       'Calico/Brown', 'Green/Brown', 'Tortie Point/White',\n",
       "       'Blue Smoke/White', 'Buff/Cream', 'Brown Tabby/Gray',\n",
       "       'Torbie/Calico', 'Gray/Buff', 'Fawn/Chocolate', 'Fawn/Gray',\n",
       "       'Torbie/Brown', 'Black/Tortie', 'Red/Gold', 'Orange/Black',\n",
       "       'Gold/Cream', 'Tortie/Black Smoke', 'Blue Tabby/Tan',\n",
       "       'Lilac Point/Cream', 'Buff/Red', 'White/Chocolate Point',\n",
       "       'Red/Red', 'Silver/Red', 'Blue Smoke', 'Blue/Tortie',\n",
       "       'Blue/Orange', 'Tricolor/Calico', 'Orange Tabby/Black',\n",
       "       'Orange Tabby/Tortie Point', 'Seal Point/Brown',\n",
       "       'Brown Merle/Blue Merle', 'Tan/Red Tick', 'Black/Silver Tabby',\n",
       "       'Brown/Black Tabby', 'Tortie/Brown', 'Brown Merle/Brown',\n",
       "       'Black/Black Tabby', 'Brown/Green', 'Orange/Orange Tabby',\n",
       "       'Tortie Point/Lynx Point', 'Black/Pink', 'Silver/Cream',\n",
       "       'Orange Tabby/Apricot', 'Black Tabby/Orange', 'Blue/Yellow',\n",
       "       'Sable/Gray', 'Blue Tabby/Orange', 'Cream/Brown',\n",
       "       'Tricolor/Brown Merle', 'Tricolor/Brown Brindle',\n",
       "       'Torbie/Blue Tabby', 'Orange Tabby/Cream', 'Tricolor/Gray',\n",
       "       'Green/Gray', 'Lynx Point/Tortie Point', 'Chocolate/Brown Tabby'],\n",
       "      dtype=object)"
      ]
     },
     "execution_count": 733,
     "metadata": {},
     "output_type": "execute_result"
    }
   ],
   "source": [
    "colour"
   ]
  },
  {
   "cell_type": "markdown",
   "metadata": {},
   "source": [
    "#### We see combinations like White/White, Brown/Black , Black/Brown which are not unique"
   ]
  },
  {
   "cell_type": "markdown",
   "metadata": {},
   "source": [
    "### Working on feature Intake Condition"
   ]
  },
  {
   "cell_type": "code",
   "execution_count": 734,
   "metadata": {},
   "outputs": [
    {
     "data": {
      "text/plain": [
       "Normal      37001\n",
       "Injured      2280\n",
       "Sick         1892\n",
       "Nursing      1123\n",
       "Aged          216\n",
       "Other          91\n",
       "Feral          57\n",
       "Pregnant       19\n",
       "Name: intake_condition, dtype: int64"
      ]
     },
     "execution_count": 734,
     "metadata": {},
     "output_type": "execute_result"
    }
   ],
   "source": [
    "train['intake_condition'].value_counts()"
   ]
  },
  {
   "cell_type": "code",
   "execution_count": 735,
   "metadata": {},
   "outputs": [],
   "source": [
    "intake_condition = train.intake_condition.unique()\n",
    "my_dict={}\n",
    "func(intake_condition)\n",
    "data = [train,test]\n",
    "for dataset in data:\n",
    "    dataset['intake_condition_numeric'] = dataset['intake_condition'].map(my_dict)"
   ]
  },
  {
   "cell_type": "markdown",
   "metadata": {},
   "source": [
    "#### Most of the animals are Normal at the time of intake"
   ]
  },
  {
   "cell_type": "markdown",
   "metadata": {},
   "source": [
    "#### Age vs Intake Condition"
   ]
  },
  {
   "cell_type": "code",
   "execution_count": 736,
   "metadata": {},
   "outputs": [
    {
     "data": {
      "text/plain": [
       "<matplotlib.axes._subplots.AxesSubplot at 0x1fab0cf96a0>"
      ]
     },
     "execution_count": 736,
     "metadata": {},
     "output_type": "execute_result"
    },
    {
     "data": {
      "image/png": "[encoded data removed]",
      "text/plain": [
       "<Figure size 864x360 with 1 Axes>"
      ]
     },
     "metadata": {
      "needs_background": "light"
     },
     "output_type": "display_data"
    }
   ],
   "source": [
    "plt.figure(figsize = (12,5))\n",
    "sns.barplot(train['age_upon_intake'],train['intake_condition'] )"
   ]
  },
  {
   "cell_type": "markdown",
   "metadata": {},
   "source": [
    "#### This is obvious that Aged animals have age nearly 12 years. It is seen that animals with age between 2-4 years are either Injured or Sick or Other condition"
   ]
  },
  {
   "cell_type": "markdown",
   "metadata": {},
   "source": [
    "### Visualizing intake Condition of Dogs and Cats"
   ]
  },
  {
   "cell_type": "code",
   "execution_count": 737,
   "metadata": {},
   "outputs": [],
   "source": [
    "dogs =  train[train['animal_type_numeric'] ==0]\n",
    "cats =   train[train['animal_type_numeric']==1]"
   ]
  },
  {
   "cell_type": "code",
   "execution_count": 738,
   "metadata": {},
   "outputs": [
    {
     "data": {
      "image/png": "[encoded data removed]",
      "text/plain": [
       "<Figure size 432x288 with 1 Axes>"
      ]
     },
     "metadata": {},
     "output_type": "display_data"
    },
    {
     "data": {
      "image/png": "[encoded data removed]",
      "text/plain": [
       "<Figure size 432x288 with 1 Axes>"
      ]
     },
     "metadata": {},
     "output_type": "display_data"
    }
   ],
   "source": [
    "dogs_condition = dogs['intake_condition'].value_counts().head(4)\n",
    "explode = (0.05, 0.05, 0.05, 0.05 ) \n",
    "plt.pie(dogs_condition.values, explode = explode, labels=dogs_condition.index,autopct='%1.1f%%')\n",
    "plt.axis('equal')\n",
    "plt.show()\n",
    "\n",
    "cats_condition = cats['intake_condition'].value_counts().head(4)\n",
    "explode = (0.05, 0.05, 0.05, 0.05 ) \n",
    "plt.pie(cats_condition.values, explode = explode, labels=cats_condition.index,autopct='%1.1f%%')\n",
    "plt.axis('equal')\n",
    "plt.show()"
   ]
  },
  {
   "cell_type": "markdown",
   "metadata": {},
   "source": [
    "#### We observe that %age of animals in Nursing and Sick condition are mostly Cats while more %age animals that are Injured are Dogs."
   ]
  },
  {
   "cell_type": "markdown",
   "metadata": {},
   "source": [
    "## Studying Intake type of animals"
   ]
  },
  {
   "cell_type": "code",
   "execution_count": 739,
   "metadata": {},
   "outputs": [
    {
     "data": {
      "text/plain": [
       "([<matplotlib.patches.Wedge at 0x1fa9af76b38>,\n",
       "  <matplotlib.patches.Wedge at 0x1fa9af60278>,\n",
       "  <matplotlib.patches.Wedge at 0x1fa9af60978>,\n",
       "  <matplotlib.patches.Wedge at 0x1fa9af920b8>],\n",
       " [Text(-0.6782232728542358, 0.9287158834427724, 'Stray'),\n",
       "  Text(0.3309198722845638, -1.1013591776197118, 'Owner Surrender'),\n",
       "  Text(1.018581610626073, -0.5338459538990582, 'Public Assist'),\n",
       "  Text(1.1381189508692264, -0.16487951259126166, 'Wildlife')],\n",
       " [Text(-0.38334358900456794, 0.5249263689024365, '70.1%'),\n",
       "  Text(0.18704166694344912, -0.6225073612633154, '19.1%'),\n",
       "  Text(0.5757200407886498, -0.3017390174212068, '6.2%'),\n",
       "  Text(0.6432846244043453, -0.09319276798636526, '4.6%')])"
      ]
     },
     "execution_count": 739,
     "metadata": {},
     "output_type": "execute_result"
    },
    {
     "data": {
      "image/png": "[encoded data removed]",
      "text/plain": [
       "<Figure size 432x288 with 1 Axes>"
      ]
     },
     "metadata": {},
     "output_type": "display_data"
    }
   ],
   "source": [
    "intake_type = train['intake_type'].value_counts().head(4)\n",
    "explode = (0.05,0.05,0.05,0.05)\n",
    "plt.pie(intake_type.values, labels=intake_type.index, autopct='%1.1f%%', explode = explode)"
   ]
  },
  {
   "cell_type": "markdown",
   "metadata": {},
   "source": [
    "#### Majority of Animals are Stray or are Surredered by Owners. So we can explore more about them."
   ]
  },
  {
   "cell_type": "code",
   "execution_count": 740,
   "metadata": {},
   "outputs": [
    {
     "data": {
      "image/png": "[encoded data removed]",
      "text/plain": [
       "<Figure size 432x288 with 1 Axes>"
      ]
     },
     "metadata": {},
     "output_type": "display_data"
    }
   ],
   "source": [
    "dogs_type = cats['intake_type'].value_counts().head(4)\n",
    "explode = (0.05, 0.05, 0.05, 0.05 ) \n",
    "plt.pie(dogs_type.values, explode = explode, labels=dogs_type.index,autopct='%1.1f%%')\n",
    "plt.axis('equal')\n",
    "plt.show()\n"
   ]
  },
  {
   "cell_type": "markdown",
   "metadata": {},
   "source": [
    "### Breed of Stray animals"
   ]
  },
  {
   "cell_type": "code",
   "execution_count": 741,
   "metadata": {},
   "outputs": [],
   "source": [
    "dogs_stray = dogs[dogs['intake_type']=='Stray']\n",
    "cats_stray = cats[cats['intake_type']=='Stray']"
   ]
  },
  {
   "cell_type": "code",
   "execution_count": 742,
   "metadata": {},
   "outputs": [
    {
     "data": {
      "text/plain": [
       "Pit Bull Mix                 2010\n",
       "Chihuahua Shorthair Mix      1908\n",
       "Labrador Retriever Mix       1532\n",
       "German Shepherd Mix           622\n",
       "Australian Cattle Dog Mix     392\n",
       "Dachshund Mix                 342\n",
       "Miniature Poodle Mix          284\n",
       "Boxer Mix                     245\n",
       "Border Collie Mix             217\n",
       "Rat Terrier Mix               184\n",
       "Name: breed, dtype: int64"
      ]
     },
     "execution_count": 742,
     "metadata": {},
     "output_type": "execute_result"
    }
   ],
   "source": [
    "dogs_stray['breed'].value_counts().head(10)"
   ]
  },
  {
   "cell_type": "markdown",
   "metadata": {},
   "source": [
    "#### Majority of Stray Cats are of breed : Domestic Shorthair Mix"
   ]
  },
  {
   "cell_type": "code",
   "execution_count": 743,
   "metadata": {},
   "outputs": [
    {
     "data": {
      "text/plain": [
       "<matplotlib.axes._subplots.AxesSubplot at 0x1fab2e9de10>"
      ]
     },
     "execution_count": 743,
     "metadata": {},
     "output_type": "execute_result"
    },
    {
     "data": {
      "image/png": "[encoded data removed]",
      "text/plain": [
       "<Figure size 864x360 with 1 Axes>"
      ]
     },
     "metadata": {
      "needs_background": "light"
     },
     "output_type": "display_data"
    }
   ],
   "source": [
    "catsstray = cats_stray['breed'].value_counts().head(5)\n",
    "plt.figure(figsize = (12,5))\n",
    "sns.barplot(catsstray.index, catsstray.values)"
   ]
  },
  {
   "cell_type": "code",
   "execution_count": 744,
   "metadata": {},
   "outputs": [
    {
     "data": {
      "text/plain": [
       "Pit Bull Mix                     558\n",
       "Chihuahua Shorthair Mix          526\n",
       "Labrador Retriever Mix           383\n",
       "German Shepherd Mix              176\n",
       "Australian Cattle Dog Mix        123\n",
       "Dachshund Mix                     95\n",
       "Border Collie Mix                 93\n",
       "Boxer Mix                         77\n",
       "Australian Shepherd Mix           64\n",
       "Chihuahua Shorthair/Dachshund     46\n",
       "Name: breed, dtype: int64"
      ]
     },
     "execution_count": 744,
     "metadata": {},
     "output_type": "execute_result"
    }
   ],
   "source": [
    "dogs_surrendered = dogs[dogs['intake_type']=='Owner Surrender']\n",
    "cats_surrendered = cats[cats['intake_type']=='Owner Surrender']\n",
    "dogs_surrendered['breed'].value_counts().head(10)"
   ]
  },
  {
   "cell_type": "code",
   "execution_count": 745,
   "metadata": {},
   "outputs": [
    {
     "data": {
      "text/plain": [
       "Domestic Shorthair Mix      2364\n",
       "Domestic Medium Hair Mix     231\n",
       "Domestic Longhair Mix        162\n",
       "Siamese Mix                  129\n",
       "Domestic Shorthair            57\n",
       "Maine Coon Mix                33\n",
       "Snowshoe Mix                  26\n",
       "Manx Mix                      19\n",
       "Domestic Medium Hair          16\n",
       "Domestic Longhair             11\n",
       "Name: breed, dtype: int64"
      ]
     },
     "execution_count": 745,
     "metadata": {},
     "output_type": "execute_result"
    }
   ],
   "source": [
    "cats_surrendered['breed'].value_counts().head(10)"
   ]
  },
  {
   "cell_type": "markdown",
   "metadata": {},
   "source": [
    "#### We observe no change in results for Dogs and Cats surrendered by Owners"
   ]
  },
  {
   "cell_type": "markdown",
   "metadata": {},
   "source": [
    "### Intake type and Outcome"
   ]
  },
  {
   "cell_type": "code",
   "execution_count": 747,
   "metadata": {},
   "outputs": [],
   "source": [
    "intake_type = train.intake_type.unique()\n",
    "my_dict={}\n",
    "func(intake_type)\n",
    "data = [train,test]\n",
    "for dataset in data:\n",
    "    dataset['intake_type_numeric'] = dataset['intake_type'].map(my_dict)"
   ]
  },
  {
   "cell_type": "code",
   "execution_count": 748,
   "metadata": {},
   "outputs": [
    {
     "data": {
      "text/plain": [
       "array(['Stray', 'Owner Surrender', 'Public Assist', 'Euthanasia Request',\n",
       "       'Wildlife'], dtype=object)"
      ]
     },
     "execution_count": 748,
     "metadata": {},
     "output_type": "execute_result"
    }
   ],
   "source": [
    "intake_type"
   ]
  },
  {
   "cell_type": "code",
   "execution_count": 749,
   "metadata": {},
   "outputs": [
    {
     "data": {
      "text/plain": [
       "<matplotlib.axes._subplots.AxesSubplot at 0x1fa8734f5c0>"
      ]
     },
     "execution_count": 749,
     "metadata": {},
     "output_type": "execute_result"
    },
    {
     "data": {
      "image/png": "[encoded data removed]",
      "text/plain": [
       "<Figure size 864x360 with 1 Axes>"
      ]
     },
     "metadata": {
      "needs_background": "light"
     },
     "output_type": "display_data"
    }
   ],
   "source": [
    "plt.figure(figsize = (12,5))\n",
    "sns.barplot(x='outcome_type', y='intake_type_numeric' , data = train)"
   ]
  },
  {
   "cell_type": "markdown",
   "metadata": {},
   "source": [
    "#### Here we can see that most of animals of type 'Euthanasia' and 'Wildlife' have outcome 'Euthanasia' and 'Disposal'."
   ]
  },
  {
   "cell_type": "markdown",
   "metadata": {},
   "source": [
    "### I googled 'Euthanasia'. Euthanasia means the painless killing of a patient suffering from an incurable and painful disease or in an irreversible coma."
   ]
  },
  {
   "cell_type": "markdown",
   "metadata": {},
   "source": [
    "#### So that's why we can say that most of the time animals of intake_type: 'Euthanasia' will have outcome 'Euthanasia' only"
   ]
  },
  {
   "cell_type": "markdown",
   "metadata": {},
   "source": [
    "#### So from the graph it can be observed that most of Wildlife animals have outcome 'Disposal'"
   ]
  },
  {
   "cell_type": "markdown",
   "metadata": {},
   "source": [
    "### Sex upon intake of animals"
   ]
  },
  {
   "cell_type": "code",
   "execution_count": 750,
   "metadata": {},
   "outputs": [
    {
     "data": {
      "text/plain": [
       "array(['Neutered Male', 'Spayed Female', 'Intact Female', 'Intact Male',\n",
       "       'Unknown', nan], dtype=object)"
      ]
     },
     "execution_count": 750,
     "metadata": {},
     "output_type": "execute_result"
    }
   ],
   "source": [
    "train.sex_upon_intake.unique()"
   ]
  },
  {
   "cell_type": "code",
   "execution_count": 751,
   "metadata": {},
   "outputs": [
    {
     "data": {
      "text/plain": [
       "Intact Male      13233\n",
       "Intact Female    12373\n",
       "Neutered Male     7060\n",
       "Spayed Female     6217\n",
       "Unknown           3795\n",
       "Name: sex_upon_intake, dtype: int64"
      ]
     },
     "execution_count": 751,
     "metadata": {},
     "output_type": "execute_result"
    }
   ],
   "source": [
    "train['sex_upon_intake'].value_counts().head(5)"
   ]
  },
  {
   "cell_type": "markdown",
   "metadata": {},
   "source": [
    "#### Dogs and Cats are Either Intact Male or Intact Female mostly"
   ]
  },
  {
   "cell_type": "code",
   "execution_count": 752,
   "metadata": {},
   "outputs": [
    {
     "data": {
      "text/plain": [
       "Intact Male      7459\n",
       "Intact Female    6462\n",
       "Neutered Male    5277\n",
       "Spayed Female    4560\n",
       "Unknown           110\n",
       "Name: sex_upon_intake, dtype: int64"
      ]
     },
     "execution_count": 752,
     "metadata": {},
     "output_type": "execute_result"
    }
   ],
   "source": [
    "dogs['sex_upon_intake'].value_counts().head(5)"
   ]
  },
  {
   "cell_type": "code",
   "execution_count": 753,
   "metadata": {},
   "outputs": [
    {
     "data": {
      "text/plain": [
       "Intact Female    5781\n",
       "Intact Male      5545\n",
       "Neutered Male    1766\n",
       "Spayed Female    1650\n",
       "Unknown          1444\n",
       "Name: sex_upon_intake, dtype: int64"
      ]
     },
     "execution_count": 753,
     "metadata": {},
     "output_type": "execute_result"
    }
   ],
   "source": [
    "cats['sex_upon_intake'].value_counts().head(5)"
   ]
  },
  {
   "cell_type": "markdown",
   "metadata": {},
   "source": [
    "#### Feature that could be related to sex_upon_intake is sex_upon_outcome."
   ]
  },
  {
   "cell_type": "markdown",
   "metadata": {},
   "source": [
    "### sex_upon_intake vs sex_upon_outcome"
   ]
  },
  {
   "cell_type": "code",
   "execution_count": 754,
   "metadata": {},
   "outputs": [
    {
     "data": {
      "text/plain": [
       "<matplotlib.axes._subplots.AxesSubplot at 0x1fa9af38978>"
      ]
     },
     "execution_count": 754,
     "metadata": {},
     "output_type": "execute_result"
    },
    {
     "data": {
      "image/png": "[encoded data removed]",
      "text/plain": [
       "<Figure size 432x288 with 1 Axes>"
      ]
     },
     "metadata": {
      "needs_background": "light"
     },
     "output_type": "display_data"
    }
   ],
   "source": [
    "intake_sex = train['sex_upon_intake'].value_counts() \n",
    "sns.barplot(intake_sex.values , intake_sex.index)"
   ]
  },
  {
   "cell_type": "code",
   "execution_count": 755,
   "metadata": {},
   "outputs": [
    {
     "data": {
      "text/plain": [
       "<matplotlib.axes._subplots.AxesSubplot at 0x1fac638e908>"
      ]
     },
     "execution_count": 755,
     "metadata": {},
     "output_type": "execute_result"
    },
    {
     "data": {
      "image/png": "[encoded data removed]",
      "text/plain": [
       "<Figure size 432x288 with 1 Axes>"
      ]
     },
     "metadata": {
      "needs_background": "light"
     },
     "output_type": "display_data"
    }
   ],
   "source": [
    "outcome_sex = train['sex_upon_outcome'].value_counts() \n",
    "sns.barplot(outcome_sex.values , outcome_sex.index)"
   ]
  },
  {
   "cell_type": "markdown",
   "metadata": {},
   "source": [
    "#### It is seen that there is high number of changes in the sex of animals. Lets just compare the 2 bar plots by combining."
   ]
  },
  {
   "cell_type": "code",
   "execution_count": 756,
   "metadata": {},
   "outputs": [
    {
     "data": {
      "text/plain": [
       "<matplotlib.axes._subplots.AxesSubplot at 0x1fa8edfb278>"
      ]
     },
     "execution_count": 756,
     "metadata": {},
     "output_type": "execute_result"
    },
    {
     "data": {
      "image/png": "[encoded data removed]",
      "text/plain": [
       "<Figure size 864x360 with 1 Axes>"
      ]
     },
     "metadata": {
      "needs_background": "light"
     },
     "output_type": "display_data"
    }
   ],
   "source": [
    "df = pd.DataFrame({'intake_sex' : intake_sex , 'outcome_sex' : outcome_sex})\n",
    " \n",
    "df.plot.bar(figsize = (12,5))"
   ]
  },
  {
   "cell_type": "markdown",
   "metadata": {},
   "source": [
    "#### High amount of animals got converted into Neutered Male and Spayed Female from Intact Male and Female  "
   ]
  },
  {
   "cell_type": "markdown",
   "metadata": {},
   "source": [
    "#### Remove 'count' feature as it is same always"
   ]
  },
  {
   "cell_type": "code",
   "execution_count": 757,
   "metadata": {},
   "outputs": [],
   "source": [
    "train = train.drop('count',axis=1)\n",
    "test = test.drop('count',axis=1)\n"
   ]
  },
  {
   "cell_type": "markdown",
   "metadata": {},
   "source": [
    "#### Convert age upon intake age group and age upon outcome age group feature to numeric classes. Might bhi helpful later."
   ]
  },
  {
   "cell_type": "code",
   "execution_count": 758,
   "metadata": {},
   "outputs": [],
   "source": [
    "age_upon_intake_age_group = train.age_upon_intake_age_group.unique()\n",
    "my_dict={}\n",
    "func(age_upon_intake_age_group)\n",
    "data = [train,test]\n",
    "for dataset in data:\n",
    "    dataset['age_group'] = dataset['age_upon_intake_age_group'].map(my_dict)"
   ]
  },
  {
   "cell_type": "code",
   "execution_count": 759,
   "metadata": {},
   "outputs": [],
   "source": [
    "age_upon_outcome_age_group = train.age_upon_outcome_age_group.unique()\n",
    "my_dict={}\n",
    "func(age_upon_outcome_age_group)\n",
    "data = [train,test]\n",
    "for dataset in data:\n",
    "    dataset['age_group_outcome'] = dataset['age_upon_outcome_age_group'].map(my_dict)"
   ]
  },
  {
   "cell_type": "code",
   "execution_count": 760,
   "metadata": {},
   "outputs": [
    {
     "data": {
      "text/plain": [
       "array(['(7.5, 10.0]', '(15.0, 17.5]', '(12.5, 15.0]', '(17.5, 20.0]',\n",
       "       '(10.0, 12.5]', '(2.5, 5.0]', '(5.0, 7.5]', '(-0.025, 2.5]',\n",
       "       '(20.0, 22.5]'], dtype=object)"
      ]
     },
     "execution_count": 760,
     "metadata": {},
     "output_type": "execute_result"
    }
   ],
   "source": [
    "age_upon_intake_age_group"
   ]
  },
  {
   "cell_type": "code",
   "execution_count": 761,
   "metadata": {},
   "outputs": [
    {
     "data": {
      "text/plain": [
       "array(['(7.5, 10.0]', '(15.0, 17.5]', '(12.5, 15.0]', '(17.5, 20.0]',\n",
       "       '(10.0, 12.5]', '(2.5, 5.0]', '(5.0, 7.5]', '(-0.025, 2.5]',\n",
       "       '(20.0, 22.5]'], dtype=object)"
      ]
     },
     "execution_count": 761,
     "metadata": {},
     "output_type": "execute_result"
    }
   ],
   "source": [
    "age_upon_outcome_age_group"
   ]
  },
  {
   "cell_type": "code",
   "execution_count": 762,
   "metadata": {},
   "outputs": [
    {
     "data": {
      "text/plain": [
       "0     0\n",
       "3     0\n",
       "4     1\n",
       "5     2\n",
       "6     2\n",
       "7     2\n",
       "8     2\n",
       "9     3\n",
       "10    1\n",
       "11    2\n",
       "Name: age_group, dtype: int64"
      ]
     },
     "execution_count": 762,
     "metadata": {},
     "output_type": "execute_result"
    }
   ],
   "source": [
    "train['age_group'].head(10)"
   ]
  },
  {
   "cell_type": "code",
   "execution_count": 763,
   "metadata": {},
   "outputs": [
    {
     "data": {
      "text/plain": [
       "<matplotlib.axes._subplots.AxesSubplot at 0x1fa9af5bd30>"
      ]
     },
     "execution_count": 763,
     "metadata": {},
     "output_type": "execute_result"
    },
    {
     "data": {
      "image/png": "[encoded data removed]",
      "text/plain": [
       "<Figure size 432x288 with 1 Axes>"
      ]
     },
     "metadata": {
      "needs_background": "light"
     },
     "output_type": "display_data"
    }
   ],
   "source": [
    "sns.barplot(x='age_group' , y='outcome_type' , data=train)"
   ]
  },
  {
   "cell_type": "markdown",
   "metadata": {},
   "source": [
    "### Intake and Outcome Time"
   ]
  },
  {
   "cell_type": "code",
   "execution_count": 764,
   "metadata": {},
   "outputs": [
    {
     "data": {
      "text/plain": [
       "<matplotlib.axes._subplots.AxesSubplot at 0x1fa9329e6d8>"
      ]
     },
     "execution_count": 764,
     "metadata": {},
     "output_type": "execute_result"
    },
    {
     "data": {
      "image/png": "[encoded data removed]",
      "text/plain": [
       "<Figure size 1440x576 with 1 Axes>"
      ]
     },
     "metadata": {
      "needs_background": "light"
     },
     "output_type": "display_data"
    }
   ],
   "source": [
    "intake = train['intake_monthyear'].value_counts().head(20)\n",
    "plt.figure(figsize=(20,8))\n",
    "sns.barplot(intake.index,intake.values)"
   ]
  },
  {
   "cell_type": "markdown",
   "metadata": {},
   "source": [
    "#### Spikes in year 2015 around May-June in intake animals"
   ]
  },
  {
   "cell_type": "code",
   "execution_count": 765,
   "metadata": {},
   "outputs": [
    {
     "data": {
      "text/plain": [
       "<matplotlib.axes._subplots.AxesSubplot at 0x1fa931dabe0>"
      ]
     },
     "execution_count": 765,
     "metadata": {},
     "output_type": "execute_result"
    },
    {
     "data": {
      "image/png": "[encoded data removed]",
      "text/plain": [
       "<Figure size 1440x576 with 1 Axes>"
      ]
     },
     "metadata": {
      "needs_background": "light"
     },
     "output_type": "display_data"
    }
   ],
   "source": [
    "outcome = train['outcome_monthyear'].value_counts().head(20)\n",
    "plt.figure(figsize=(20,8))\n",
    "sns.barplot(outcome.index,outcome.values)"
   ]
  },
  {
   "cell_type": "markdown",
   "metadata": {},
   "source": [
    "#### Most outcomes were in July 2014. In 2015 , May-July period have many outcomes"
   ]
  },
  {
   "cell_type": "markdown",
   "metadata": {},
   "source": [
    "### This means overall May-July of 2015 was very active for AWC. We can study if something happened at that time?"
   ]
  },
  {
   "cell_type": "code",
   "execution_count": 766,
   "metadata": {},
   "outputs": [
    {
     "data": {
      "text/plain": [
       "Saturday     6648\n",
       "Monday       6356\n",
       "Wednesday    6239\n",
       "Tuesday      6207\n",
       "Friday       5973\n",
       "Thursday     5728\n",
       "Sunday       5528\n",
       "Name: intake_weekday, dtype: int64"
      ]
     },
     "execution_count": 766,
     "metadata": {},
     "output_type": "execute_result"
    }
   ],
   "source": [
    "train['intake_weekday'].value_counts()"
   ]
  },
  {
   "cell_type": "markdown",
   "metadata": {},
   "source": [
    "#### More intakes in the center on Saturday Monday and Wednesday "
   ]
  },
  {
   "cell_type": "code",
   "execution_count": 767,
   "metadata": {},
   "outputs": [
    {
     "data": {
      "text/plain": [
       "Sunday       6774\n",
       "Saturday     6730\n",
       "Tuesday      6238\n",
       "Monday       6177\n",
       "Wednesday    5706\n",
       "Friday       5670\n",
       "Thursday     5384\n",
       "Name: outcome_weekday, dtype: int64"
      ]
     },
     "execution_count": 767,
     "metadata": {},
     "output_type": "execute_result"
    }
   ],
   "source": [
    "train['outcome_weekday'].value_counts()"
   ]
  },
  {
   "cell_type": "markdown",
   "metadata": {},
   "source": [
    "#### More outcomes in the center on Sunday Saturday. So Saturday being the most active day."
   ]
  },
  {
   "cell_type": "code",
   "execution_count": 768,
   "metadata": {},
   "outputs": [],
   "source": [
    "data = [train,test]\n",
    "for dataset in data:\n",
    "    dataset['outcome_weekday'] = dataset['outcome_weekday'].map(my_dict)"
   ]
  },
  {
   "cell_type": "code",
   "execution_count": 769,
   "metadata": {},
   "outputs": [],
   "source": [
    "intake_weekday = train.intake_weekday.unique()\n",
    "my_dict={}\n",
    "func(intake_weekday)\n",
    "data = [train,test]\n",
    "for dataset in data:\n",
    "    dataset['intake_weekday'] = dataset['intake_weekday'].map(my_dict)"
   ]
  },
  {
   "cell_type": "markdown",
   "metadata": {},
   "source": [
    "### Time in Shelter"
   ]
  },
  {
   "cell_type": "markdown",
   "metadata": {},
   "source": [
    "#### We have a feature time_in_shelter_days. So remove time_in_shelter"
   ]
  },
  {
   "cell_type": "code",
   "execution_count": 771,
   "metadata": {},
   "outputs": [],
   "source": [
    "train = train.drop('time_in_shelter',axis=1)\n",
    "test = test.drop('time_in_shelter',axis=1)\n"
   ]
  },
  {
   "cell_type": "code",
   "execution_count": 772,
   "metadata": {},
   "outputs": [
    {
     "data": {
      "text/plain": [
       "0.009028    55\n",
       "0.005556    50\n",
       "0.009722    50\n",
       "0.008333    50\n",
       "0.013194    49\n",
       "0.014583    49\n",
       "0.031250    48\n",
       "0.007639    48\n",
       "0.011806    47\n",
       "0.020139    47\n",
       "Name: time_in_shelter_days, dtype: int64"
      ]
     },
     "execution_count": 772,
     "metadata": {},
     "output_type": "execute_result"
    }
   ],
   "source": [
    "train['time_in_shelter_days'].value_counts().head(10)"
   ]
  },
  {
   "cell_type": "markdown",
   "metadata": {},
   "source": [
    "#### Value counts are very small in such big data. Can not deduce anything from it."
   ]
  },
  {
   "cell_type": "markdown",
   "metadata": {},
   "source": [
    "### Time in Shelter vs outcome_type"
   ]
  },
  {
   "cell_type": "markdown",
   "metadata": {},
   "source": [
    "### For Dogs"
   ]
  },
  {
   "cell_type": "code",
   "execution_count": 773,
   "metadata": {},
   "outputs": [
    {
     "data": {
      "text/plain": [
       "<matplotlib.axes._subplots.AxesSubplot at 0x1fa954b9710>"
      ]
     },
     "execution_count": 773,
     "metadata": {},
     "output_type": "execute_result"
    },
    {
     "data": {
      "image/png": "[encoded data removed]",
      "text/plain": [
       "<Figure size 864x576 with 1 Axes>"
      ]
     },
     "metadata": {
      "needs_background": "light"
     },
     "output_type": "display_data"
    }
   ],
   "source": [
    "plt.figure(figsize=(12,8))\n",
    "sns.barplot(x='time_in_shelter_days' , y ='outcome_type' ,data=train[train['animal_type']=='Dog'])"
   ]
  },
  {
   "cell_type": "markdown",
   "metadata": {},
   "source": [
    "### For Cats"
   ]
  },
  {
   "cell_type": "code",
   "execution_count": 774,
   "metadata": {},
   "outputs": [
    {
     "data": {
      "text/plain": [
       "<matplotlib.axes._subplots.AxesSubplot at 0x1fa8cb9e400>"
      ]
     },
     "execution_count": 774,
     "metadata": {},
     "output_type": "execute_result"
    },
    {
     "data": {
      "image/png": "[encoded data removed]",
      "text/plain": [
       "<Figure size 864x576 with 1 Axes>"
      ]
     },
     "metadata": {
      "needs_background": "light"
     },
     "output_type": "display_data"
    }
   ],
   "source": [
    "plt.figure(figsize=(12,8))\n",
    "sns.barplot(x='time_in_shelter_days' , y ='outcome_type' ,data=train[train['animal_type']=='Cat'])"
   ]
  },
  {
   "cell_type": "markdown",
   "metadata": {},
   "source": [
    "#### 1. Animals who spend more time in shelter have good Outcome like Adoption or Returned to Owner\n",
    "#### 2. Cats spend avg. time 35+ days while Dogs 20-25 days for Adoption or Returned to Owner"
   ]
  },
  {
   "cell_type": "markdown",
   "metadata": {},
   "source": [
    "### Drop some unnecessary columns"
   ]
  },
  {
   "cell_type": "code",
   "execution_count": 775,
   "metadata": {},
   "outputs": [],
   "source": [
    "train = train.drop(['age_upon_outcome','date_of_birth','age_upon_outcome_(days)','outcome_hour','intake_hour'],axis=1)\n",
    "test = test.drop(['age_upon_outcome','date_of_birth','age_upon_outcome_(days)','outcome_hour','intake_hour'],axis=1)\n"
   ]
  },
  {
   "cell_type": "markdown",
   "metadata": {},
   "source": [
    "### Feature to be predicted : outcome_type"
   ]
  },
  {
   "cell_type": "code",
   "execution_count": 777,
   "metadata": {},
   "outputs": [
    {
     "data": {
      "text/plain": [
       "Adoption           11198\n",
       "Transfer           10075\n",
       "Return to Owner     7562\n",
       "Euthanasia          4135\n",
       "Died                2613\n",
       "Missing             2358\n",
       "Relocate            2339\n",
       "Rto-Adopt           2221\n",
       "Disposal             178\n",
       "Name: outcome_type, dtype: int64"
      ]
     },
     "execution_count": 777,
     "metadata": {},
     "output_type": "execute_result"
    }
   ],
   "source": [
    "train['outcome_type'].value_counts()"
   ]
  },
  {
   "cell_type": "code",
   "execution_count": 778,
   "metadata": {},
   "outputs": [
    {
     "data": {
      "image/png": "[encoded data removed]",
      "text/plain": [
       "<Figure size 432x288 with 1 Axes>"
      ]
     },
     "metadata": {},
     "output_type": "display_data"
    }
   ],
   "source": [
    "outcome = train['outcome_type'].value_counts().head(8)\n",
    "explode = (0.1, 0.1, 0.1, 0.1  ,0.1, 0.1, 0.1, 0.1 ) \n",
    "plt.pie(outcome.values, explode = explode, labels=outcome.index,autopct='%1.1f%%')\n",
    "plt.axis('equal')\n",
    "plt.show()"
   ]
  },
  {
   "cell_type": "markdown",
   "metadata": {},
   "source": [
    "#### Most animals are Adopted or Transfered or Returned to Owner"
   ]
  },
  {
   "cell_type": "markdown",
   "metadata": {},
   "source": [
    "### Dogs"
   ]
  },
  {
   "cell_type": "code",
   "execution_count": 779,
   "metadata": {},
   "outputs": [
    {
     "data": {
      "image/png": "[encoded data removed]",
      "text/plain": [
       "<Figure size 432x288 with 1 Axes>"
      ]
     },
     "metadata": {},
     "output_type": "display_data"
    }
   ],
   "source": [
    "outcome = dogs['outcome_type'].value_counts().head(8)\n",
    "explode = (0.1, 0.1, 0.1, 0.1  ,0.1, 0.1, 0.1, 0.1 ) \n",
    "plt.pie(outcome.values, explode = explode, labels=outcome.index,autopct='%1.1f%%')\n",
    "plt.axis('equal')\n",
    "plt.show()"
   ]
  },
  {
   "cell_type": "markdown",
   "metadata": {},
   "source": [
    "### Cats"
   ]
  },
  {
   "cell_type": "code",
   "execution_count": 780,
   "metadata": {},
   "outputs": [
    {
     "data": {
      "image/png": "[encoded data removed]",
      "text/plain": [
       "<Figure size 432x288 with 1 Axes>"
      ]
     },
     "metadata": {},
     "output_type": "display_data"
    }
   ],
   "source": [
    "outcome = cats['outcome_type'].value_counts().head(8)\n",
    "explode = (0.1, 0.1, 0.1, 0.1  ,0.1, 0.1, 0.1, 0.1 ) \n",
    "plt.pie(outcome.values, explode = explode, labels=outcome.index,autopct='%1.1f%%')\n",
    "plt.axis('equal')\n",
    "plt.show()"
   ]
  },
  {
   "cell_type": "markdown",
   "metadata": {},
   "source": [
    "#### Comparison between Dogs and Cats\n",
    "#### 1. %age wise Dogs are adopted more than Cats\n",
    "#### 2. Less %age of Cats are transferred"
   ]
  },
  {
   "cell_type": "code",
   "execution_count": 781,
   "metadata": {},
   "outputs": [],
   "source": [
    "mapping = {'Return to Owner':0, 'Missing':1, 'Transfer':2, 'Adoption':3, 'Euthanasia':4,'Rto-Adopt':5, 'Relocate':6, 'Died':7, 'Disposal':8}"
   ]
  },
  {
   "cell_type": "code",
   "execution_count": 782,
   "metadata": {},
   "outputs": [],
   "source": [
    "data1=[train]\n",
    "for dataset in data1:\n",
    "    dataset[\"outcome_type\"]=dataset[\"outcome_type\"].map(mapping)"
   ]
  },
  {
   "cell_type": "markdown",
   "metadata": {},
   "source": [
    "### Breed vs Outcome Type"
   ]
  },
  {
   "cell_type": "markdown",
   "metadata": {},
   "source": [
    "### Cats"
   ]
  },
  {
   "cell_type": "code",
   "execution_count": 783,
   "metadata": {},
   "outputs": [
    {
     "data": {
      "text/plain": [
       "<matplotlib.axes._subplots.AxesSubplot at 0x1fa87d38b38>"
      ]
     },
     "execution_count": 783,
     "metadata": {},
     "output_type": "execute_result"
    },
    {
     "data": {
      "image/png": "[encoded data removed]",
      "text/plain": [
       "<Figure size 1080x1440 with 1 Axes>"
      ]
     },
     "metadata": {
      "needs_background": "light"
     },
     "output_type": "display_data"
    }
   ],
   "source": [
    "plt.figure(figsize=(15,20))\n",
    "\n",
    "sns.barplot(x='outcome_type' , y ='breed' ,data=train[train['animal_type_numeric']==1])"
   ]
  },
  {
   "cell_type": "markdown",
   "metadata": {},
   "source": [
    "### Converting Data Types so that we can fed it into Models"
   ]
  },
  {
   "cell_type": "code",
   "execution_count": 784,
   "metadata": {},
   "outputs": [
    {
     "data": {
      "text/plain": [
       "Neutered Male    14997\n",
       "Spayed Female    13381\n",
       "Intact Male       5296\n",
       "Intact Female     5209\n",
       "Unknown           3795\n",
       "Name: sex_upon_outcome, dtype: int64"
      ]
     },
     "execution_count": 784,
     "metadata": {},
     "output_type": "execute_result"
    }
   ],
   "source": [
    "train['sex_upon_outcome'].value_counts() "
   ]
  },
  {
   "cell_type": "code",
   "execution_count": 785,
   "metadata": {},
   "outputs": [
    {
     "data": {
      "text/plain": [
       "Intact Male      13233\n",
       "Intact Female    12373\n",
       "Neutered Male     7060\n",
       "Spayed Female     6217\n",
       "Unknown           3795\n",
       "Name: sex_upon_intake, dtype: int64"
      ]
     },
     "execution_count": 785,
     "metadata": {},
     "output_type": "execute_result"
    }
   ],
   "source": [
    "train['sex_upon_intake'].value_counts() "
   ]
  },
  {
   "cell_type": "code",
   "execution_count": 786,
   "metadata": {},
   "outputs": [],
   "source": [
    "sex  = {'Intact Male': 0 ,'Intact Female': 1 ,'Neutered Male': 2 ,'Spayed Female': 3 ,'Unknown': 4  }"
   ]
  },
  {
   "cell_type": "code",
   "execution_count": 787,
   "metadata": {},
   "outputs": [],
   "source": [
    "data=[train,test]\n",
    "for dataset in data:\n",
    "    dataset[\"sex_upon_intake\"]=dataset[\"sex_upon_intake\"].map(sex)\n",
    "    dataset[\"sex_upon_outcome\"]=dataset[\"sex_upon_outcome\"].map(sex)\n",
    "    "
   ]
  },
  {
   "cell_type": "code",
   "execution_count": 788,
   "metadata": {},
   "outputs": [],
   "source": [
    "train = train.drop(['intake_monthyear','outcome_monthyear'],axis=1)\n",
    "test = test.drop(['intake_monthyear','outcome_monthyear'],axis=1)"
   ]
  },
  {
   "cell_type": "markdown",
   "metadata": {},
   "source": [
    "#### Converting Breeds to numeric classes"
   ]
  },
  {
   "cell_type": "code",
   "execution_count": 789,
   "metadata": {},
   "outputs": [
    {
     "data": {
      "text/plain": [
       "{'Jack Russell Terrier/Boston Terrier',\n",
       " 'Pekingese/Maltese',\n",
       " 'Pug',\n",
       " 'Labrador Retriever/Australian Cattle Dog',\n",
       " 'Smooth Fox Terrier/Chihuahua Shorthair',\n",
       " 'Yorkshire Terrier/Shih Tzu',\n",
       " 'Rat Terrier/Pointer',\n",
       " 'Dogue De Bordeaux/American Bulldog',\n",
       " 'Jack Russell Terrier/Whippet',\n",
       " 'Miniature Schnauzer/Labrador Retriever',\n",
       " 'Rabbit Lh',\n",
       " 'Collie Rough/Golden Retriever',\n",
       " 'Dachshund/Havanese',\n",
       " 'Catahoula/Great Dane',\n",
       " 'Great Pyrenees/Rottweiler',\n",
       " 'Rhod Ridgeback/Pointer',\n",
       " 'Keeshond/Finnish Spitz',\n",
       " 'Australian Shepherd/Parson Russell Terrier',\n",
       " 'American Eskimo/Alaskan Husky',\n",
       " 'Miniature Schnauzer/Pug',\n",
       " 'Siberian Husky/Chinese Sharpei',\n",
       " 'Chesa Bay Retr Mix',\n",
       " 'Yorkshire Terrier/Chinese Crested',\n",
       " 'Rat Terrier/Beagle',\n",
       " 'Border Collie/Pembroke Welsh Corgi',\n",
       " 'Catahoula/Labrador Retriever',\n",
       " 'Jindo/Labrador Retriever',\n",
       " 'American Foxhound/Pointer',\n",
       " 'Pug/Beagle',\n",
       " 'Basset Hound/Dachshund',\n",
       " 'Boston Terrier/Miniature Schnauzer',\n",
       " 'Chihuahua Longhair/Yorkshire Terrier',\n",
       " 'Rottweiler/Siberian Husky',\n",
       " 'Basset Hound/Black/Tan Hound',\n",
       " 'Maltese/Toy Poodle',\n",
       " 'Border Terrier/Chihuahua Shorthair',\n",
       " 'Bruss Griffon',\n",
       " 'Coyote',\n",
       " 'Bulldog/Pit Bull',\n",
       " 'Chinese Sharpei/Great Dane',\n",
       " 'Great Pyrenees/Plott Hound',\n",
       " 'Queensland Heeler/Pointer',\n",
       " 'Cocker Spaniel/Beagle',\n",
       " 'Dachshund/Australian Kelpie',\n",
       " 'Dachshund/Norfolk Terrier',\n",
       " 'Border Terrier/Bruss Griffon',\n",
       " 'Leonberger Mix',\n",
       " 'Irish Wolfhound/Australian Shepherd',\n",
       " 'Soft Coated Wheaten Terrier/Chihuahua Shorthair',\n",
       " 'Dachshund/Cavalier Span',\n",
       " 'Black/Tan Hound/Black Mouth Cur',\n",
       " 'Pembroke Welsh Corgi',\n",
       " 'Boxer/Bullmastiff',\n",
       " 'Keeshond Mix',\n",
       " 'Golden Retriever/Border Terrier',\n",
       " 'Manchester Terrier/Dachshund',\n",
       " 'Whippet/Labrador Retriever',\n",
       " 'Catahoula/Plott Hound',\n",
       " 'Carolina Dog/Chihuahua Shorthair',\n",
       " 'Domestic Medium Hair/Manx',\n",
       " 'Chihuahua Shorthair/Miniature Schnauzer',\n",
       " 'Labrador Retriever/Alaskan Malamute',\n",
       " 'Chow Chow/Golden Retriever',\n",
       " 'Labrador Retriever/American Pit Bull Terrier',\n",
       " 'Rat Terrier/Chihuahua Longhair',\n",
       " 'Jack Russell Terrier/Papillon',\n",
       " 'Schnauzer Giant/Labrador Retriever',\n",
       " 'Anatol Shepherd/German Shepherd',\n",
       " 'Miniature Schnauzer/Dachshund',\n",
       " 'Checkered Giant Mix',\n",
       " 'Yorkshire Terrier/Jack Russell Terrier',\n",
       " 'Pug/Pit Bull',\n",
       " 'Border Collie/Basenji',\n",
       " 'Blue Lacy/Chinese Sharpei',\n",
       " 'Mastiff/Plott Hound',\n",
       " 'Chihuahua Shorthair/Cavalier Span',\n",
       " 'Doberman Pinsch/Border Collie',\n",
       " 'German Shepherd/Redbone Hound',\n",
       " 'Rex-Mini Mix',\n",
       " 'Miniature Schnauzer/Border Collie',\n",
       " 'Chihuahua Longhair/Chihuahua Shorthair',\n",
       " 'Black/Tan Hound/Great Dane',\n",
       " 'Guinea Mix',\n",
       " 'Lhasa Apso/Yorkshire Terrier',\n",
       " 'Staffordshire/Labrador Retriever',\n",
       " 'Boston Terrier/Australian Kelpie',\n",
       " 'Chihuahua Shorthair/Basset Hound',\n",
       " 'Dalmatian/Pit Bull',\n",
       " 'Lhasa Apso/West Highland',\n",
       " 'Smooth Fox Terrier Mix',\n",
       " 'Catahoula/German Shepherd',\n",
       " 'Labrador Retriever/German Shepherd',\n",
       " 'Bobcat Mix',\n",
       " 'Manchester Terrier/Toy Fox Terrier',\n",
       " 'Dachshund',\n",
       " 'Opossum',\n",
       " 'Nuthatch Mix',\n",
       " 'Black/Tan Hound/Beagle',\n",
       " 'Plott Hound/Beagle',\n",
       " 'Plott Hound/Boxer',\n",
       " 'Guinea Pig',\n",
       " 'Irish Wolfhound Mix',\n",
       " 'Standard Poodle/Whippet',\n",
       " 'Labrador Retriever/Mastiff',\n",
       " 'Turkey Mix',\n",
       " 'Black/Tan Hound/Siberian Husky',\n",
       " 'Cornish Rex Mix',\n",
       " 'Pbgv',\n",
       " 'Mexican Hairless Mix',\n",
       " 'Fox Mix',\n",
       " 'American Pit Bull Terrier/Boxer',\n",
       " 'Neapolitan Mastiff/Pit Bull',\n",
       " 'English Foxhound/Smooth Fox Terrier',\n",
       " 'Saluki',\n",
       " 'Quaker Mix',\n",
       " 'Golden Retriever/Standard Poodle',\n",
       " 'Whippet/Australian Cattle Dog',\n",
       " 'Snowshoe/Domestic Shorthair',\n",
       " 'Border Collie/Whippet',\n",
       " 'Dachshund/German Shepherd',\n",
       " 'Tonkinese Mix',\n",
       " 'Border Collie/Great Pyrenees',\n",
       " 'Chihuahua Longhair/Dachshund Wirehair',\n",
       " 'Pug/French Bulldog',\n",
       " 'Finnish Spitz/Dachshund',\n",
       " 'Beagle/Jack Russell Terrier',\n",
       " 'Dachshund/Basset Hound',\n",
       " 'Old English Sheepdog Mix',\n",
       " 'English Bulldog/Australian Cattle Dog',\n",
       " 'English Spot',\n",
       " 'Siberian Husky/Rottweiler',\n",
       " 'West Highland/Cairn Terrier',\n",
       " 'Great Pyrenees/Queensland Heeler',\n",
       " 'Chihuahua Longhair Mix',\n",
       " 'West Highland/Toy Fox Terrier',\n",
       " 'Welsh Springer Spaniel/Labrador Retriever',\n",
       " 'Song Bird Mix',\n",
       " 'Spinone Italiano Mix',\n",
       " 'Border Collie/Australian Shepherd',\n",
       " 'American Staffordshire Terrier/Rhod Ridgeback',\n",
       " 'Vulture Mix',\n",
       " 'Pointer/Basset Hound',\n",
       " 'Border Collie/Parson Russell Terrier',\n",
       " 'Redbone Hound/Australian Cattle Dog',\n",
       " 'Cardigan Welsh Corgi/Cardigan Welsh Corgi',\n",
       " 'Pekingese/Chihuahua Shorthair',\n",
       " 'Staffordshire',\n",
       " 'Dachshund Mix',\n",
       " 'Catahoula/Pointer',\n",
       " 'Yorkshire Terrier/Parson Russell Terrier',\n",
       " 'Border Terrier/Yorkshire Terrier',\n",
       " 'Chinese Crested/Papillon',\n",
       " 'Chihuahua Shorthair/Pomeranian',\n",
       " 'Great Pyrenees/Boxer',\n",
       " 'Beagle/Parson Russell Terrier',\n",
       " 'Catahoula/American Pit Bull Terrier',\n",
       " 'Great Dane/Anatol Shepherd',\n",
       " 'Border Collie/German Shepherd',\n",
       " 'American Pit Bull Terrier/Chinese Sharpei',\n",
       " 'Rat Terrier',\n",
       " 'American Pit Bull Terrier',\n",
       " 'Abyssinian Mix',\n",
       " 'Yorkshire Terrier/Chihuahua Shorthair',\n",
       " 'Goose Mix',\n",
       " 'German Shepherd/Plott Hound',\n",
       " 'Dalmatian/Basset Hound',\n",
       " 'Dachshund Wirehair/Miniature Schnauzer',\n",
       " 'Carolina Dog',\n",
       " 'Yorkshire Terrier/Standard Poodle',\n",
       " 'Border Collie/English Pointer',\n",
       " 'Miniature Schnauzer/Maltese',\n",
       " 'Devon Rex Mix',\n",
       " 'Akbash Mix',\n",
       " 'Patterdale Terr Mix',\n",
       " 'Brittany/Collie Rough',\n",
       " 'Papillon/Miniature Poodle',\n",
       " 'Manx/Siamese',\n",
       " 'Pekingese/Miniature Poodle',\n",
       " 'Labrador Retriever/Alaskan Husky',\n",
       " 'Dachshund/Shih Tzu',\n",
       " 'Flemish Giant',\n",
       " 'Pit Bull/Dogue De Bordeaux',\n",
       " 'Australian Cattle Dog/Boston Terrier',\n",
       " 'Collie Rough/Australian Shepherd',\n",
       " 'Newfoundland/Great Pyrenees',\n",
       " 'Bedlington Terr Mix',\n",
       " 'Jack Russell Terrier/Brittany',\n",
       " 'Norwich Terrier/Cairn Terrier',\n",
       " 'Newfoundland/Queensland Heeler',\n",
       " 'Chihuahua Shorthair/Manchester Terrier',\n",
       " 'English Bulldog/Cairn Terrier',\n",
       " 'Labrador Retriever/English Springer Spaniel',\n",
       " 'Spanish Mastiff Mix',\n",
       " 'American Staffordshire Terrier',\n",
       " 'Greyhound/Saluki',\n",
       " 'Pointer/Queensland Heeler',\n",
       " 'Dutch',\n",
       " 'Miniature Schnauzer/Lhasa Apso',\n",
       " 'Plott Hound/Whippet',\n",
       " 'Dogo Argentino/Pit Bull',\n",
       " 'Pbgv Mix',\n",
       " 'Rhode Island Mix',\n",
       " 'Beagle/Vizsla',\n",
       " 'Australian Cattle Dog/Chihuahua Shorthair',\n",
       " 'Labrador Retriever/Pointer',\n",
       " 'Rottweiler/Rhod Ridgeback',\n",
       " 'Australian Cattle Dog/Alaskan Husky',\n",
       " 'Beagle/Plott Hound',\n",
       " 'West Highland/Maltese',\n",
       " 'Dalmatian',\n",
       " 'Wire Hair Fox Terrier/Chihuahua Shorthair',\n",
       " 'Dachshund/Shetland Sheepdog',\n",
       " 'Canaan Dog/Redbone Hound',\n",
       " 'Bull Terrier/Jack Russell Terrier',\n",
       " 'Australian Shepherd/Collie Rough',\n",
       " 'Dutch Shepherd/Plott Hound',\n",
       " 'Dutch Shepherd/Boxer',\n",
       " 'Whippet/Plott Hound',\n",
       " 'Cocker Spaniel/Golden Retriever',\n",
       " 'Pit Bull/Basset Hound',\n",
       " 'Presa Canario Mix',\n",
       " 'Chow Chow/Rottweiler',\n",
       " 'Siberian Husky/Pit Bull',\n",
       " 'Jack Russell Terrier/Pug',\n",
       " 'Chinese Sharpei/Australian Cattle Dog',\n",
       " 'Pit Bull/Dalmatian',\n",
       " 'Dachshund/Australian Cattle Dog',\n",
       " 'Siberian Husky/Labrador Retriever',\n",
       " 'Pigeon Mix',\n",
       " 'Dalmatian/Pointer',\n",
       " 'Pointer/Brittany',\n",
       " 'Australian Shepherd/Pit Bull',\n",
       " 'German Shepherd/Nova Scotia Duck Tolling Retriever',\n",
       " 'Crow Mix',\n",
       " 'Chow Chow/Chinese Sharpei',\n",
       " 'Australian Cattle Dog/Cairn Terrier',\n",
       " 'Lop-Holland Mix',\n",
       " 'Beagle/Cairn Terrier',\n",
       " 'Greater Swiss Mountain Dog Mix',\n",
       " 'Cairn Terrier/Border Collie',\n",
       " 'Plott Hound/Rhod Ridgeback',\n",
       " 'Domestic Shorthair',\n",
       " 'Cavalier Span/Toy Poodle',\n",
       " 'Australian Cattle Dog/Chinese Crested',\n",
       " 'Shetland Sheepdog',\n",
       " 'Dachshund/Jack Russell Terrier',\n",
       " 'Labrador Retriever/Irish Setter',\n",
       " 'Shetland Sheepdog/Cardigan Welsh Corgi',\n",
       " 'Great Pyrenees Mix',\n",
       " 'Boston Terrier/Pembroke Welsh Corgi',\n",
       " 'Belgian Malinois/German Shepherd',\n",
       " 'Border Terrier/Cardigan Welsh Corgi',\n",
       " 'Miniature Schnauzer/Chihuahua Longhair',\n",
       " 'Chinese Sharpei/Basset Hound',\n",
       " 'Pit Bull/Border Collie',\n",
       " 'German Shepherd/Pointer',\n",
       " 'Anatol Shepherd',\n",
       " 'Australian Cattle Dog/Great Pyrenees',\n",
       " 'American Bulldog/Pointer',\n",
       " 'Italian Greyhound/Chihuahua Shorthair',\n",
       " 'Labrador Retriever/Beagle',\n",
       " 'Deer Mix',\n",
       " 'Cardigan Welsh Corgi Mix',\n",
       " 'Basset Hound/Great Pyrenees',\n",
       " 'Basenji/Chow Chow',\n",
       " 'Cairn Terrier/Shih Tzu',\n",
       " 'Manx/Domestic Longhair',\n",
       " 'Brittany Mix',\n",
       " 'Yorkshire Terrier Mix',\n",
       " 'Vizsla/Beagle',\n",
       " 'Cardigan Welsh Corgi/Cairn Terrier',\n",
       " 'Bullmastiff Mix',\n",
       " 'Cocker Spaniel/Dachshund Longhair',\n",
       " 'Dachshund/Chihuahua Shorthair',\n",
       " 'Labrador Retriever/Pug',\n",
       " 'Pug/Italian Greyhound',\n",
       " 'Standard Schnauzer/Miniature Poodle',\n",
       " 'Chihuahua Shorthair/Wire Hair Fox Terrier',\n",
       " 'Boxer/German Shepherd',\n",
       " 'Chihuahua Shorthair/Mexican Hairless',\n",
       " 'Cocker Spaniel',\n",
       " 'Whippet/Anatol Shepherd',\n",
       " 'Silkie Mix',\n",
       " 'Chihuahua Longhair/Rat Terrier',\n",
       " 'Doberman Pinsch/Black/Tan Hound',\n",
       " 'Doberman Pinsch/German Shepherd',\n",
       " 'Pit Bull/Blue Lacy',\n",
       " 'Tibetan Terrier/Lhasa Apso',\n",
       " 'English Springer Spaniel/Cardigan Welsh Corgi',\n",
       " 'Labrador Retriever/Spanish Water Dog',\n",
       " 'Miniature Poodle/Shih Tzu',\n",
       " 'Dachshund Longhair/Chihuahua Longhair',\n",
       " 'Akita/German Shepherd',\n",
       " 'Staffordshire/French Bulldog',\n",
       " 'Great Pyrenees/Golden Retriever',\n",
       " 'Domestic Longhair Mix',\n",
       " 'Golden Retriever/Labrador Retriever',\n",
       " 'Australian Cattle Dog/German Shorthair Pointer',\n",
       " 'Redbone Hound',\n",
       " 'Turtle Mix',\n",
       " 'Boxer/Pit Bull',\n",
       " 'Tibetan Terrier',\n",
       " 'Whippet/Rat Terrier',\n",
       " 'Jack Russell Terrier/Pembroke Welsh Corgi',\n",
       " 'Neapolitan Mastiff Mix',\n",
       " 'Boston Terrier/Pointer',\n",
       " 'Labrador Retriever/Great Dane',\n",
       " 'Miniature Pinscher/Yorkshire Terrier',\n",
       " 'Black Mouth Cur/Pit Bull',\n",
       " 'Greater Swiss Mountain Dog',\n",
       " 'Munchkin Longhair Mix',\n",
       " 'Labrador Retriever/Vizsla',\n",
       " 'Dove Mix',\n",
       " 'Miniature Poodle/Dachshund',\n",
       " 'Catahoula/Cardigan Welsh Corgi',\n",
       " 'Whippet Mix',\n",
       " 'Dachshund Wirehair/West Highland',\n",
       " 'Border Collie/Pit Bull',\n",
       " 'Papillon/Chihuahua Shorthair',\n",
       " 'Blue Lacy/Black Mouth Cur',\n",
       " 'Pointer/Blue Lacy',\n",
       " 'Dachshund/Wire Hair Fox Terrier',\n",
       " 'Skunk Mix',\n",
       " 'Domestic Shorthair/Domestic Shorthair',\n",
       " 'Chihuahua Shorthair/Pug',\n",
       " 'Dutch Shepherd',\n",
       " 'Rabbit Sh Mix',\n",
       " 'Rabbit Sh/Lop-Mini',\n",
       " 'Dachshund Longhair/Tibetan Spaniel',\n",
       " 'Rottweiler/Labrador Retriever',\n",
       " 'Cairn Terrier/Scottish Terrier',\n",
       " 'Pit Bull/Cardigan Welsh Corgi',\n",
       " 'Labrador Retriever/Boxer',\n",
       " 'Miniature Schnauzer/Scottish Terrier',\n",
       " 'Parakeet',\n",
       " 'St. Bernard Rough Coat/German Shepherd',\n",
       " 'Soft Coated Wheaten Terrier/Miniature Poodle',\n",
       " 'American Bulldog',\n",
       " 'Pembroke Welsh Corgi/Australian Cattle Dog',\n",
       " 'Basset Hound/Beagle',\n",
       " 'Australian Kelpie/Rat Terrier',\n",
       " 'Whippet/Beagle',\n",
       " 'Bull Terrier',\n",
       " 'Havana Brown Mix',\n",
       " 'English Pointer/Boxer',\n",
       " 'Samoyed',\n",
       " 'Miniature Poodle/Miniature Schnauzer',\n",
       " 'Papillon Mix',\n",
       " 'Weimaraner/Labrador Retriever',\n",
       " 'Miniature Poodle/Yorkshire Terrier',\n",
       " 'Australian Cattle Dog/Treeing Walker Coonhound',\n",
       " 'Bruss Griffon Mix',\n",
       " 'Treeing Walker Coonhound/Labrador Retriever',\n",
       " 'Dachshund Longhair/Cocker Spaniel',\n",
       " 'Jack Russell Terrier/Rat Terrier',\n",
       " 'Black Mouth Cur/Australian Cattle Dog',\n",
       " 'American Bulldog/Great Pyrenees',\n",
       " 'Dutch Shepherd/Mastiff',\n",
       " 'Greyhound/Great Dane',\n",
       " 'Basenji/Australian Cattle Dog',\n",
       " 'Golden Retriever/Great Pyrenees',\n",
       " 'Black Mouth Cur/Mastiff',\n",
       " 'Golden Retriever',\n",
       " 'Australian Cattle Dog/Australian Kelpie',\n",
       " 'Lhasa Apso/Cairn Terrier',\n",
       " 'Alaskan Husky/Border Collie',\n",
       " 'Ferret',\n",
       " 'Labrador Retriever Mix',\n",
       " 'German Shepherd/Chinese Sharpei',\n",
       " 'Chow Chow Mix',\n",
       " 'Australian Kelpie/Alaskan Husky',\n",
       " 'Norfolk Terrier/Border Terrier',\n",
       " 'Field Spaniel Mix',\n",
       " 'Ragdoll',\n",
       " 'Rottweiler Mix',\n",
       " 'Beagle',\n",
       " 'Cardigan Welsh Corgi/Cocker Spaniel',\n",
       " 'Dachshund/Miniature Poodle',\n",
       " 'Lark Mix',\n",
       " 'Miniature Poodle/Border Terrier',\n",
       " 'Pekingese/Tibetan Terrier',\n",
       " 'Pug/Pomeranian',\n",
       " 'Shetland Sheepdog Mix',\n",
       " 'Sealyham Terr Mix',\n",
       " 'Wire Hair Fox Terrier/Golden Retriever',\n",
       " 'Great Dane/Pointer',\n",
       " 'Labrador Retriever/Pembroke Welsh Corgi',\n",
       " 'Jack Russell Terrier',\n",
       " 'Jack Russell Terrier/Basset Hound',\n",
       " 'Manx/Domestic Shorthair',\n",
       " 'Chihuahua Longhair/Italian Greyhound',\n",
       " 'Rhod Ridgeback',\n",
       " 'Rottweiler/Australian Kelpie',\n",
       " 'Plott Hound Mix',\n",
       " 'Pointer',\n",
       " 'Pit Bull/Boxer',\n",
       " 'Hawk',\n",
       " 'Alaskan Malamute/German Shepherd',\n",
       " 'Bloodhound',\n",
       " 'Border Collie/Doberman Pinsch',\n",
       " 'Cairn Terrier',\n",
       " 'Boston Terrier/Labrador Retriever',\n",
       " 'Rhod Ridgeback/Plott Hound',\n",
       " 'English Bulldog Mix',\n",
       " 'German Shepherd/Australian Cattle Dog',\n",
       " 'Silky Terrier Mix',\n",
       " 'Bruss Griffon/Maltese',\n",
       " 'Anatol Shepherd Mix',\n",
       " 'Border Terrier/Shih Tzu',\n",
       " 'Great Pyrenees/Siberian Husky',\n",
       " 'Beagle/Labrador Retriever',\n",
       " 'Pointer/Labrador Retriever',\n",
       " 'Bombay Mix',\n",
       " 'German Shepherd/Siberian Husky',\n",
       " 'Dachshund Longhair/Pomeranian',\n",
       " 'Shih Tzu/Miniature Schnauzer',\n",
       " 'Soft Coated Wheaten Terrier Mix',\n",
       " 'Standard Schnauzer/Standard Poodle',\n",
       " 'Lhasa Apso/Dachshund',\n",
       " 'Muscovy',\n",
       " 'Redbone Hound Mix',\n",
       " 'Domestic Longhair',\n",
       " 'Bearded Collie',\n",
       " 'Rat Terrier/Pembroke Welsh Corgi',\n",
       " 'Rat Terrier/English Pointer',\n",
       " 'Beagle/Australian Cattle Dog',\n",
       " 'Beagle/Basset Hound',\n",
       " 'Landseer Mix',\n",
       " 'Rat Terrier Mix',\n",
       " 'Wire Hair Fox Terrier/German Shepherd',\n",
       " 'Pit Bull/St. Bernard Smooth Coat',\n",
       " 'Lowchen/Yorkshire Terrier',\n",
       " 'Staffordshire/Border Collie',\n",
       " 'Rat Mix',\n",
       " 'Armadillo',\n",
       " 'Border Collie/Anatol Shepherd',\n",
       " 'Pointer/Ibizan Hound',\n",
       " 'Shih Tzu/Pekingese',\n",
       " 'Rottweiler/Boxer',\n",
       " 'Australian Cattle Dog/German Shepherd',\n",
       " 'Basset Hound/Beauceron',\n",
       " 'Dachshund Wirehair/Shih Tzu',\n",
       " 'Golden Retriever/Beagle',\n",
       " 'Pointer/Jack Russell Terrier',\n",
       " 'American Staffordshire Terrier/Rottweiler',\n",
       " 'Pug/Boxer',\n",
       " 'Dachshund/Bloodhound',\n",
       " 'Border Collie/Beagle',\n",
       " 'Chihuahua Longhair/Cardigan Welsh Corgi',\n",
       " 'Flat Coat Retriever',\n",
       " 'Pit Bull',\n",
       " 'Dutch/Rabbit Sh',\n",
       " 'Alaskan Malamute/Akita',\n",
       " 'American Staffordshire Terrier/Australian Cattle Dog',\n",
       " 'Pug/Labrador Retriever',\n",
       " 'Toy Poodle/Miniature Schnauzer',\n",
       " 'Chihuahua Shorthair/Norfolk Terrier',\n",
       " 'German Shepherd/Black/Tan Hound',\n",
       " 'Whippet/Miniature Pinscher',\n",
       " 'Cairn Terrier/Italian Greyhound',\n",
       " 'Chihuahua Longhair/Norfolk Terrier',\n",
       " 'Boxer/Staffordshire',\n",
       " 'Weimaraner',\n",
       " 'Cocker Spaniel/Chihuahua Shorthair',\n",
       " 'Harrier/Labrador Retriever',\n",
       " 'Miniature Poodle Mix',\n",
       " 'Border Collie/Canaan Dog',\n",
       " 'Cairn Terrier/Miniature Poodle',\n",
       " 'Bulldog/Labrador Retriever',\n",
       " 'Chihuahua Shorthair/Cairn Terrier',\n",
       " 'Dachshund/Chihuahua Longhair',\n",
       " 'German Shorthair Pointer/Australian Cattle Dog',\n",
       " 'Tibetan Spaniel',\n",
       " 'Miniature Poodle/Havanese',\n",
       " 'Dachshund Wirehair/Miniature Poodle',\n",
       " 'Queensland Heeler Mix',\n",
       " 'Akita/Belgian Malinois',\n",
       " 'German Shorthair Pointer Mix',\n",
       " 'Boxer/Whippet',\n",
       " 'Chihuahua Shorthair/Yorkshire Terrier',\n",
       " 'German Shepherd/Rottweiler',\n",
       " 'Great Pyrenees/German Shepherd',\n",
       " 'Pembroke Welsh Corgi/German Shepherd',\n",
       " 'Norwegian Forest Cat Mix',\n",
       " 'Ibizan Hound/Pit Bull',\n",
       " 'Cardigan Welsh Corgi/Australian Cattle Dog',\n",
       " 'Basenji',\n",
       " 'American Staffordshire Terrier/French Bulldog',\n",
       " 'Pit Bull/Rottweiler',\n",
       " 'Catahoula/Pit Bull',\n",
       " 'Pharaoh Hound',\n",
       " 'Australian Shepherd/Dachshund',\n",
       " 'Ragdoll Mix',\n",
       " 'Pekingese/Pomeranian',\n",
       " 'Treeing Walker Coonhound/Australian Cattle Dog',\n",
       " 'Cardigan Welsh Corgi/Miniature Pinscher',\n",
       " 'German Wirehaired Pointer/Labrador Retriever',\n",
       " 'Canaan Dog Mix',\n",
       " 'Great Dane/Australian Shepherd',\n",
       " 'Shih Tzu/Pug',\n",
       " 'Miniature Schnauzer/Border Terrier',\n",
       " 'Cardigan Welsh Corgi/Pit Bull',\n",
       " 'Tibetan Spaniel/Chihuahua Longhair',\n",
       " 'Dachshund Wirehair/Border Terrier',\n",
       " 'Pit Bull/Jack Russell Terrier',\n",
       " 'Welsh Terrier Mix',\n",
       " 'Staffordshire/Basset Hound',\n",
       " 'Chihuahua Shorthair/Labrador Retriever',\n",
       " 'Bat',\n",
       " 'Border Collie/Alaskan Husky',\n",
       " 'Chinese Crested Mix',\n",
       " 'Angora Mix',\n",
       " 'Airedale Terrier/Irish Terrier',\n",
       " 'Alaskan Malamute Mix',\n",
       " 'Rex Mix',\n",
       " 'Catahoula/Irish Wolfhound',\n",
       " 'Mastiff/Bloodhound',\n",
       " 'Chow Chow/Pomeranian',\n",
       " 'Budgerigar',\n",
       " 'Cocker Spaniel/Labrador Retriever',\n",
       " 'Miniature Schnauzer/Standard Poodle',\n",
       " 'Golden Retriever Mix',\n",
       " 'Black Mouth Cur',\n",
       " 'Chow Chow/Pit Bull',\n",
       " 'Finnish Spitz/Chow Chow',\n",
       " 'Cardigan Welsh Corgi/Chihuahua Longhair',\n",
       " 'Flat Coat Retriever/Labrador Retriever',\n",
       " 'Lionhead',\n",
       " 'Border Terrier/Border Collie',\n",
       " 'Bernese Mountain Dog Mix',\n",
       " 'Flat Coat Retriever/Papillon',\n",
       " 'Cardigan Welsh Corgi/Jack Russell Terrier',\n",
       " 'Dalmatian/Australian Cattle Dog',\n",
       " 'Boerboel Mix',\n",
       " 'Border Terrier/Miniature Poodle',\n",
       " 'Australian Cattle Dog/Dalmatian',\n",
       " 'Weimaraner/Pit Bull',\n",
       " 'Australian Shepherd/Labrador Retriever',\n",
       " 'Australian Kelpie Mix',\n",
       " 'Scottish Terrier/Basset Hound',\n",
       " 'Norwich Terrier',\n",
       " 'Harrier/German Shepherd',\n",
       " 'Queensland Heeler/Great Pyrenees',\n",
       " 'American Eskimo/Australian Shepherd',\n",
       " 'Queensland Heeler/Labrador Retriever',\n",
       " 'Britannia Petit Mix',\n",
       " 'Chihuahua Shorthair/Bichon Frise',\n",
       " 'Bichon Frise',\n",
       " 'American Staffordshire Terrier/American Bulldog',\n",
       " 'Standard Schnauzer/Soft Coated Wheaten Terrier',\n",
       " 'Black/Tan Hound',\n",
       " 'St. Bernard Rough Coat/Boxer',\n",
       " 'Labrador Retriever/St. Bernard Smooth Coat',\n",
       " 'Rat Terrier/Labrador Retriever',\n",
       " 'Siberian Husky/Cardigan Welsh Corgi',\n",
       " 'Doberman Pinsch/Vizsla',\n",
       " 'Labrador Retriever/Collie Smooth',\n",
       " 'Dutch Shepherd/Labrador Retriever',\n",
       " 'Anatol Shepherd/Catahoula',\n",
       " 'Labrador Retriever/Collie Rough',\n",
       " 'Chow Chow/Basset Hound',\n",
       " 'Labrador Retriever/Anatol Shepherd',\n",
       " 'Russian Blue',\n",
       " 'Alaskan Malamute/Australian Kelpie',\n",
       " 'Domestic Shorthair/Siamese',\n",
       " 'Black/Tan Hound/German Shepherd',\n",
       " 'Siberian Husky/Australian Cattle Dog',\n",
       " 'Staffordshire/Bull Terrier',\n",
       " 'Labrador Retriever/Border Collie',\n",
       " 'Chihuahua Shorthair/Affenpinscher',\n",
       " 'Boxer/Australian Cattle Dog',\n",
       " 'Heron',\n",
       " 'Miniature Pinscher/Maltese',\n",
       " 'Labrador Retriever/American Foxhound',\n",
       " 'Maine Coon Mix',\n",
       " 'Pit Bull/Pharaoh Hound',\n",
       " 'English Springer Spaniel Mix',\n",
       " 'Plott Hound/Black/Tan Hound',\n",
       " 'Bengal',\n",
       " 'Jack Russell Terrier/Australian Cattle Dog',\n",
       " 'Black Mouth Cur/Blue Lacy',\n",
       " 'Shetland Sheepdog/Italian Greyhound',\n",
       " 'Affenpinscher Mix',\n",
       " 'Labrador Retriever/Golden Retriever',\n",
       " 'Border Collie/Dalmatian',\n",
       " 'Great Dane/German Shepherd',\n",
       " 'Cockatoo',\n",
       " 'Old English Bulldog Mix',\n",
       " 'Shetland Sheepdog/Basenji',\n",
       " 'Australian Cattle Dog/Labrador Retriever',\n",
       " 'Australian Shepherd/Cocker Spaniel',\n",
       " 'Shetland Sheepdog/Border Collie',\n",
       " 'Australian Cattle Dog/Pit Bull',\n",
       " 'Manchester Terrier/Jack Russell Terrier',\n",
       " 'Schnauzer Giant Mix',\n",
       " 'Pembroke Welsh Corgi/Labrador Retriever',\n",
       " 'Yorkshire Terrier/Norfolk Terrier',\n",
       " 'Pomeranian/Shetland Sheepdog',\n",
       " 'Black Mouth Cur/Basset Hound',\n",
       " 'Miniature Poodle/Maltese',\n",
       " 'Cairn Terrier/West Highland',\n",
       " 'Chihuahua Shorthair/Cirneco',\n",
       " 'Wire Hair Fox Terrier Mix',\n",
       " 'Golden Retriever/Pit Bull',\n",
       " 'Irish Terrier/Irish Wolfhound',\n",
       " 'English Bulldog/Staffordshire',\n",
       " 'Chihuahua Shorthair/Shetland Sheepdog',\n",
       " 'Siberian Husky/Beagle',\n",
       " 'Blue Lacy/Australian Kelpie',\n",
       " 'Bull Terrier Miniature Mix',\n",
       " 'Newfoundland/Labrador Retriever',\n",
       " 'Miniature Poodle/English Cocker Spaniel',\n",
       " 'Dachshund/Blue Lacy',\n",
       " 'Boxer/Neapolitan Mastiff',\n",
       " 'Border Collie/Mastiff',\n",
       " 'Pit Bull/Pit Bull',\n",
       " 'American Bulldog/Blue Lacy',\n",
       " 'Rat Terrier/Lhasa Apso',\n",
       " 'English Pointer/Labrador Retriever',\n",
       " 'Beauceron',\n",
       " 'Miniature Poodle/American Eskimo',\n",
       " 'Dachshund/Bull Terrier',\n",
       " 'Miniature Schnauzer/Soft Coated Wheaten Terrier',\n",
       " 'Miniature Pinscher/Pomeranian',\n",
       " 'Vizsla/Boxer',\n",
       " 'Maltese/Papillon',\n",
       " 'Catahoula/English Coonhound',\n",
       " 'Domestic Medium Hair Mix',\n",
       " 'Pit Bull/Labrador Retriever',\n",
       " 'Wire Hair Fox Terrier',\n",
       " 'Cane Corso/Mastiff',\n",
       " 'Dachshund/Belgian Malinois',\n",
       " 'Soft Coated Wheaten Terrier/Labrador Retriever',\n",
       " 'St. Bernard Smooth Coat',\n",
       " 'Chihuahua Longhair',\n",
       " 'Chihuahua Shorthair/Rhod Ridgeback',\n",
       " 'Collie Rough/Irish Setter',\n",
       " 'French Bulldog/English Bulldog',\n",
       " 'Wren Mix',\n",
       " 'Toy Fox Terrier/Yorkshire Terrier',\n",
       " 'Great Pyrenees/Pit Bull',\n",
       " 'Labrador Retriever/English Pointer',\n",
       " 'Beagle/Cocker Spaniel',\n",
       " 'Pit Bull/Chinese Sharpei',\n",
       " 'Queensland Heeler/Border Collie',\n",
       " 'Australian Shepherd/Collie Smooth',\n",
       " 'Pit Bull/Rat Terrier',\n",
       " 'Siberian Husky',\n",
       " 'Black Mouth Cur/Labrador Retriever',\n",
       " 'Basset Hound/English Cocker Spaniel',\n",
       " 'Labrador Retriever/Chihuahua Shorthair',\n",
       " 'Mastiff/American Pit Bull Terrier',\n",
       " 'Doberman Pinsch/Pit Bull',\n",
       " 'Dutch/Angora-Satin',\n",
       " 'Boxer/Bulldog',\n",
       " 'Chihuahua Shorthair/Toy Fox Terrier',\n",
       " 'Manx Mix',\n",
       " 'Boxer/Beagle',\n",
       " 'Miniature Pinscher/Whippet',\n",
       " 'Siamese',\n",
       " 'Catahoula/Black Mouth Cur',\n",
       " 'Border Collie/Labrador Retriever',\n",
       " 'Pomeranian/Jack Russell Terrier',\n",
       " 'Opossum Mix',\n",
       " 'Chihuahua Shorthair/Pembroke Welsh Corgi',\n",
       " 'Australian Shepherd/Rottweiler',\n",
       " 'Australian Shepherd/Field Spaniel',\n",
       " 'Rottweiler/Chow Chow',\n",
       " 'Cairn Terrier/Dachshund Wirehair',\n",
       " 'Dove',\n",
       " 'Dachshund Longhair/Cardigan Welsh Corgi',\n",
       " 'Anatol Shepherd/Australian Cattle Dog',\n",
       " 'St. Bernard Rough Coat Mix',\n",
       " 'Squirrel Mix',\n",
       " 'Bloodhound/Labrador Retriever',\n",
       " 'English Foxhound Mix',\n",
       " 'Pit Bull/Siberian Husky',\n",
       " 'Basset Hound/Pit Bull',\n",
       " 'Great Pyrenees/American Bulldog',\n",
       " 'Pug/Pekingese',\n",
       " 'German Shepherd/Cardigan Welsh Corgi',\n",
       " 'Standard Schnauzer/Border Terrier',\n",
       " 'Norwegian Elkhound Mix',\n",
       " 'Dachshund Longhair/Chihuahua Shorthair',\n",
       " 'Redbone Hound/Labrador Retriever',\n",
       " 'Labrador Retriever/Brittany',\n",
       " 'St. Bernard Smooth Coat Mix',\n",
       " 'Old English Sheepdog',\n",
       " 'Australian Cattle Dog/Black Mouth Cur',\n",
       " 'Lovebird Mix',\n",
       " 'Yorkshire Terrier/Cairn Terrier',\n",
       " 'Chihuahua Shorthair/Cardigan Welsh Corgi',\n",
       " 'Labrador Retriever/Boston Terrier',\n",
       " 'Labrador Retriever/Jack Russell Terrier',\n",
       " 'Belgian Tervuren/German Shepherd',\n",
       " 'Keeshond',\n",
       " 'Jack Russell Terrier/Labrador Retriever',\n",
       " 'Bloodhound Mix',\n",
       " 'Airedale Terrier/Miniature Schnauzer',\n",
       " 'Peafowl Mix',\n",
       " 'Rat Terrier/Jack Russell Terrier',\n",
       " 'Black Mouth Cur/Siberian Husky',\n",
       " 'Beagle/Pug',\n",
       " 'Glen Of Imaal Mix',\n",
       " 'Rhod Ridgeback/Harrier',\n",
       " 'Chihuahua Shorthair/Italian Greyhound',\n",
       " 'Rottweiler/Pit Bull',\n",
       " 'Mastiff/German Shepherd',\n",
       " 'Miniature Poodle/Cocker Spaniel',\n",
       " 'Tibetan Spaniel/Beagle',\n",
       " 'Anatol Shepherd/Black Mouth Cur',\n",
       " 'Border Collie/Bernese Mountain Dog',\n",
       " 'Lakeland Terrier Mix',\n",
       " 'Beagle/Staffordshire',\n",
       " 'Bruss Griffon/Cairn Terrier',\n",
       " 'Labrador Retriever/Dachshund',\n",
       " 'Basset Hound/Australian Cattle Dog',\n",
       " 'Australian Kelpie/Shiba Inu',\n",
       " 'Great Pyrenees/Labrador Retriever',\n",
       " 'Basset Hound/Golden Retriever',\n",
       " 'Snake Mix',\n",
       " 'Chihuahua Longhair/Papillon',\n",
       " 'Chihuahua Shorthair/Boston Terrier',\n",
       " 'Australian Cattle Dog/American Pit Bull Terrier',\n",
       " 'Irish Wolfhound/Great Pyrenees',\n",
       " 'Doberman Pinsch',\n",
       " 'Chow Chow/Irish Setter',\n",
       " 'Jack Russell Terrier/Shih Tzu',\n",
       " 'Akita',\n",
       " 'Australian Terrier Mix',\n",
       " 'Queensland Heeler/Chihuahua Shorthair',\n",
       " 'Dachshund Stan Mix',\n",
       " 'Manchester Terrier/Labrador Retriever',\n",
       " 'Catahoula/Chinese Sharpei',\n",
       " 'Bull Terrier/Pit Bull',\n",
       " 'Mastiff/Rottweiler',\n",
       " 'Pomeranian/Beagle',\n",
       " 'English Coonhound',\n",
       " 'Rottweiler/English Bulldog',\n",
       " 'Dachshund Wirehair/Chihuahua Shorthair',\n",
       " 'Border Terrier/Dachshund Wirehair',\n",
       " 'Pit Bull/Mastiff',\n",
       " 'Basset Hound/Australian Shepherd',\n",
       " 'Rat Terrier/Queensland Heeler',\n",
       " 'Dachshund/Greyhound',\n",
       " 'Chihuahua Longhair/Pekingese',\n",
       " 'Sphynx',\n",
       " 'Australian Cattle Dog/Vizsla',\n",
       " 'Pointer/Catahoula',\n",
       " 'American Foxhound',\n",
       " 'Shetland Sheepdog/Chihuahua Longhair',\n",
       " 'Akita/Australian Cattle Dog',\n",
       " 'Dachshund Wirehair/Norfolk Terrier',\n",
       " 'Pit Bull/Chihuahua Shorthair',\n",
       " 'Boxer/Chinese Sharpei',\n",
       " 'Chihuahua Shorthair Mix',\n",
       " 'Cane Corso',\n",
       " 'Labrador Retriever/Saluki',\n",
       " 'Pug/Chihuahua Shorthair',\n",
       " 'Miniature Schnauzer/Whippet',\n",
       " 'Tarantula',\n",
       " 'Anatol Shepherd/Kangal',\n",
       " 'Boykin Span/Dachshund',\n",
       " 'Bull Terrier/Australian Kelpie',\n",
       " 'Lop-Mini',\n",
       " 'Jack Russell Terrier/Standard Schnauzer',\n",
       " 'Pointer/Bull Terrier',\n",
       " 'West Highland Mix',\n",
       " 'Cold Water',\n",
       " 'Australian Cattle Dog/Collie Rough',\n",
       " 'Pomeranian',\n",
       " 'American Bulldog/English Bulldog',\n",
       " 'Blue Lacy Mix',\n",
       " 'Whippet/Shetland Sheepdog',\n",
       " 'Australian Shepherd/Basset Hound',\n",
       " 'Cockatiel Mix',\n",
       " 'Pointer/Rhod Ridgeback',\n",
       " 'Australian Cattle Dog/Bloodhound',\n",
       " 'Snake/Snake',\n",
       " 'Australian Shepherd Mix',\n",
       " 'Domestic Longhair/Russian Blue',\n",
       " 'Akita/Great Pyrenees',\n",
       " 'English Cocker Spaniel Mix',\n",
       " 'Labrador Retriever/Doberman Pinsch',\n",
       " 'Mouse Mix',\n",
       " 'Pit Bull/Dachshund',\n",
       " 'Afghan Hound Mix',\n",
       " 'Labrador Retriever/Bloodhound',\n",
       " 'Australian Shepherd/Nova Scotia Duck Tolling Retriever',\n",
       " 'Shih Tzu/Pit Bull',\n",
       " 'Labrador Retriever/Pharaoh Hound',\n",
       " 'Chihuahua Shorthair/Beagle',\n",
       " 'German Shepherd Mix',\n",
       " 'German Shepherd/Pit Bull',\n",
       " 'Boxer',\n",
       " 'Sussex Span Mix',\n",
       " 'Bunting',\n",
       " 'Pointer/American Pit Bull Terrier',\n",
       " 'Ocicat Mix',\n",
       " 'Australian Kelpie/Dachshund',\n",
       " 'Border Collie/Rottweiler',\n",
       " 'Basset Hound/Border Collie',\n",
       " 'Australian Shepherd/Greyhound',\n",
       " 'Anatol Shepherd/Australian Shepherd',\n",
       " 'Mastiff',\n",
       " 'Owl Mix',\n",
       " 'Rhod Ridgeback/Bullmastiff',\n",
       " 'Labrador Retriever/Newfoundland',\n",
       " 'Scottish Fold Mix',\n",
       " 'Dalmatian/Labrador Retriever',\n",
       " 'Maltese/Dachshund',\n",
       " 'St. Bernard Rough Coat/Great Pyrenees',\n",
       " 'Jack Russell Terrier/Maltese',\n",
       " 'Manchester Terrier/Norfolk Terrier',\n",
       " 'Chinese Sharpei/Pit Bull',\n",
       " 'Maltese/Cocker Spaniel',\n",
       " 'Australian Cattle Dog/Australian Shepherd',\n",
       " 'Great Dane/Mastiff',\n",
       " 'Soft Coated Wheaten Terrier/Yorkshire Terrier',\n",
       " 'American Bulldog/American Staffordshire Terrier',\n",
       " 'Australian Shepherd/Alaskan Malamute',\n",
       " 'Labrador Retriever/Black/Tan Hound',\n",
       " 'Cavalier Span/Chihuahua Longhair',\n",
       " 'German Shepherd/Greyhound',\n",
       " 'French Bulldog/Miniature Schnauzer',\n",
       " 'Nova Scotia Duck Tolling Retriever',\n",
       " 'Cardigan Welsh Corgi/Australian Kelpie',\n",
       " 'Australian Kelpie/Miniature Pinscher',\n",
       " 'Dachshund/Rat Terrier',\n",
       " 'Basset Hound/Boxer',\n",
       " 'Boston Terrier/Pit Bull',\n",
       " 'Pit Bull/Pug',\n",
       " 'Dandie Dinmont',\n",
       " 'Vizsla/Dachshund',\n",
       " 'Staffordshire/Boxer',\n",
       " 'Labrador Retriever/Standard Poodle',\n",
       " 'French Bulldog Mix',\n",
       " 'Miniature Pinscher/Smooth Fox Terrier',\n",
       " 'English Bulldog/Dachshund',\n",
       " 'Irish Terrier/Labrador Retriever',\n",
       " 'German Shepherd/Bull Terrier',\n",
       " 'Plott Hound/Dutch Shepherd',\n",
       " 'Harlequin Mix',\n",
       " 'Domestic Shorthair Mix',\n",
       " 'Chihuahua Shorthair/Cocker Spaniel',\n",
       " 'Conure',\n",
       " 'Lhasa Apso/Pbgv',\n",
       " 'Jack Russell Terrier/Cavalier Span',\n",
       " 'Jack Russell Terrier/Australian Shepherd',\n",
       " 'English Foxhound',\n",
       " 'Vizsla/Golden Retriever',\n",
       " 'Collie Smooth/Beagle',\n",
       " 'Pit Bull/Anatol Shepherd',\n",
       " 'Jack Russell Terrier/Dachshund Wirehair',\n",
       " 'Golden Retriever/Chow Chow',\n",
       " 'Chow Chow/Cardigan Welsh Corgi',\n",
       " 'Pharaoh Hound Mix',\n",
       " 'Chinese Sharpei/Border Collie',\n",
       " 'Tortoise',\n",
       " 'Chihuahua Longhair/West Highland',\n",
       " 'Border Collie/Miniature Pinscher',\n",
       " 'West Highland/Chihuahua Shorthair',\n",
       " 'Smooth Fox Terrier/Basenji',\n",
       " 'Basset Hound Mix',\n",
       " 'Newfoundland Mix',\n",
       " 'Catahoula/Doberman Pinsch',\n",
       " 'Turkish Van Mix',\n",
       " 'Boxer/Anatol Shepherd',\n",
       " 'Black/Tan Hound/Labrador Retriever',\n",
       " 'Toy Poodle',\n",
       " 'Guinea Pig Mix',\n",
       " 'Beagle/Manchester Terrier',\n",
       " 'Miniature Poodle/Chihuahua Shorthair',\n",
       " 'Collie Smooth/Australian Kelpie',\n",
       " 'Dachshund Longhair/Maltese',\n",
       " 'Border Collie Mix',\n",
       " 'Yorkshire Terrier/Bruss Griffon',\n",
       " 'West Highland',\n",
       " 'Australian Cattle Dog/Dachshund',\n",
       " 'Australian Shepherd/Australian Kelpie',\n",
       " 'Australian Shepherd/Beagle',\n",
       " 'Chihuahua Longhair/Pomeranian',\n",
       " 'Burmese',\n",
       " 'Labrador Retriever/Bullmastiff',\n",
       " 'Harrier Mix',\n",
       " 'Great Pyrenees/Chow Chow',\n",
       " 'German Shorthair Pointer',\n",
       " 'Labrador Retriever/Queensland Heeler',\n",
       " 'Cairn Terrier/Yorkshire Terrier',\n",
       " 'Pit Bull/Weimaraner',\n",
       " 'Pug/Schipperke',\n",
       " 'English Bulldog/Pit Bull',\n",
       " 'Jindo/Shiba Inu',\n",
       " 'Tibetan Spaniel Mix',\n",
       " 'Maltese/Lhasa Apso',\n",
       " 'Hovawart',\n",
       " 'Pit Bull/Doberman Pinsch',\n",
       " 'Beagle Mix',\n",
       " 'Havana Mix',\n",
       " 'English Bulldog/American Bulldog',\n",
       " 'Chow Chow/Pekingese',\n",
       " 'Parakeet Mix',\n",
       " 'Miniature Schnauzer/Chihuahua Shorthair',\n",
       " 'Bull Terrier/Boxer',\n",
       " 'Skye Terrier/Miniature Poodle',\n",
       " 'Heron Mix',\n",
       " 'Collie Rough/Anatol Shepherd',\n",
       " 'Black Mouth Cur/Staffordshire',\n",
       " 'Cardigan Welsh Corgi/Beagle',\n",
       " 'Shetland Sheepdog/Cavalier Span',\n",
       " 'Vizsla/Staffordshire',\n",
       " 'Chihuahua Shorthair/Chinese Sharpei',\n",
       " 'Australian Shepherd/English Setter',\n",
       " 'Siberian Husky/German Shepherd',\n",
       " 'Chinese Sharpei/Chow Chow',\n",
       " 'Blue Lacy/Labrador Retriever',\n",
       " 'Blue Lacy/Pit Bull',\n",
       " 'Labrador Retriever/Siberian Husky',\n",
       " 'Australian Shepherd/Standard Poodle',\n",
       " 'German Shepherd/Chow Chow',\n",
       " 'Jack Russell Terrier/Manchester Terrier',\n",
       " 'Australian Cattle Dog/Bull Terrier',\n",
       " 'Raccoon Mix',\n",
       " 'Miniature Poodle/West Highland',\n",
       " 'Pembroke Welsh Corgi/Pit Bull',\n",
       " 'Staffordshire/Beagle',\n",
       " 'Scottish Fold/Domestic Shorthair',\n",
       " 'Collie Smooth/Chow Chow',\n",
       " 'Chow Chow/Australian Kelpie',\n",
       " 'English Bulldog',\n",
       " 'Australian Kelpie',\n",
       " 'Pigeon',\n",
       " 'American Pit Bull Terrier/American Pit Bull Terrier',\n",
       " 'Lowchen/Miniature Poodle',\n",
       " 'Whippet/Australian Kelpie',\n",
       " 'Miniature Schnauzer/Jack Russell Terrier',\n",
       " 'West Highland/Miniature Poodle',\n",
       " 'Pomeranian/Chihuahua Shorthair',\n",
       " 'Cardigan Welsh Corgi/American Staffordshire Terrier',\n",
       " 'Cardigan Welsh Corgi/Miniature Schnauzer',\n",
       " 'Australian Cattle Dog/Belgian Malinois',\n",
       " 'American Sable Mix',\n",
       " 'Golden Retriever/Finnish Spitz',\n",
       " 'German Shepherd/Smooth Fox Terrier',\n",
       " 'Plott Hound/Labrador Retriever',\n",
       " 'Treeing Walker Coonhound/German Shepherd',\n",
       " 'Bull Terrier Miniature',\n",
       " 'Nova Scotia Duck Tolling Retriever Mix',\n",
       " 'Miniature Schnauzer/Dachshund Longhair',\n",
       " 'Australian Shepherd/Chow Chow',\n",
       " 'Armadillo Mix',\n",
       " 'Dachshund/Pit Bull',\n",
       " 'Shiba Inu/German Shepherd',\n",
       " 'Labrador Retriever/Miniature Poodle',\n",
       " 'Pointer/Australian Kelpie',\n",
       " 'Bengal/Domestic Shorthair',\n",
       " 'Harrier',\n",
       " 'Dachshund/Boxer',\n",
       " 'Border Collie/Chow Chow',\n",
       " 'Pekingese Mix',\n",
       " 'Anatol Shepherd/Border Collie',\n",
       " 'Whippet/German Shepherd',\n",
       " 'American Pit Bull Terrier/Catahoula',\n",
       " 'Anatol Shepherd/Mastiff',\n",
       " 'Jack Russell Terrier/Pit Bull',\n",
       " 'Alaskan Malamute/Border Collie',\n",
       " 'Mastiff/Cane Corso',\n",
       " 'Belgian Sheepdog Mix',\n",
       " 'Pug/Cocker Spaniel',\n",
       " 'Rat Terrier/Smooth Fox Terrier',\n",
       " 'Dachshund Longhair Mix',\n",
       " 'Pug Mix',\n",
       " 'Pit Bull/French Bulldog',\n",
       " 'Rat Terrier/American Pit Bull Terrier',\n",
       " 'Golden Retriever/Australian Shepherd',\n",
       " 'Pit Bull/Belgian Malinois',\n",
       " 'Bruss Griffon/Dachshund',\n",
       " 'Maltese/Jack Russell Terrier',\n",
       " 'Chihuahua Shorthair/Rat Terrier',\n",
       " 'Cavalier Span Mix',\n",
       " 'Pixiebob Shorthair Mix',\n",
       " 'American Pit Bull Terrier/Pointer',\n",
       " 'Pit Bull/Jindo',\n",
       " 'Lop-Mini Mix',\n",
       " 'American Bulldog/Pit Bull',\n",
       " 'Flat Coat Retriever/Chow Chow',\n",
       " 'English Pointer',\n",
       " 'Great Pyrenees/English Setter',\n",
       " 'Papillon/Skye Terrier',\n",
       " 'Boxer/Mastiff',\n",
       " 'Golden Retriever/Akita',\n",
       " 'Canaan Dog/Pit Bull',\n",
       " 'Golden Retriever/Dachshund',\n",
       " 'Chihuahua Longhair/Pug',\n",
       " 'Scottish Terrier Mix',\n",
       " 'Cardigan Welsh Corgi/German Shepherd',\n",
       " 'Australian Shepherd/English Springer Spaniel',\n",
       " 'Miniature Poodle/Cairn Terrier',\n",
       " 'Collie Smooth',\n",
       " 'Maltese/Border Terrier',\n",
       " ...}"
      ]
     },
     "execution_count": 789,
     "metadata": {},
     "output_type": "execute_result"
    }
   ],
   "source": [
    "all_breeds"
   ]
  },
  {
   "cell_type": "code",
   "execution_count": 790,
   "metadata": {},
   "outputs": [],
   "source": [
    "breed_dict={}\n",
    "x=0;\n",
    "for i in all_breeds:\n",
    "    d={}\n",
    "    d.update({i : x})\n",
    "    breed_dict.update(d)\n",
    "    x=x+1\n",
    "    "
   ]
  },
  {
   "cell_type": "code",
   "execution_count": 791,
   "metadata": {},
   "outputs": [],
   "source": [
    "data=[train,test]\n",
    "for dataset in data:\n",
    "    dataset[\"breed\"]=dataset[\"breed\"].map(breed_dict)"
   ]
  },
  {
   "cell_type": "code",
   "execution_count": 792,
   "metadata": {},
   "outputs": [],
   "source": [
    "train = train.drop('animal_id_outcome',axis=1)"
   ]
  },
  {
   "cell_type": "markdown",
   "metadata": {},
   "source": [
    "#### Drop intake number and outcome number as they are always same"
   ]
  },
  {
   "cell_type": "code",
   "execution_count": 793,
   "metadata": {},
   "outputs": [
    {
     "data": {
      "text/plain": [
       "1    29302\n",
       "2     2096\n",
       "3      363\n",
       "4       76\n",
       "5       21\n",
       "6        7\n",
       "7        3\n",
       "8        1\n",
       "Name: outcome_number, dtype: int64"
      ]
     },
     "execution_count": 793,
     "metadata": {},
     "output_type": "execute_result"
    }
   ],
   "source": [
    "test['outcome_number'].value_counts()"
   ]
  },
  {
   "cell_type": "code",
   "execution_count": 794,
   "metadata": {},
   "outputs": [
    {
     "data": {
      "text/plain": [
       "1    29302\n",
       "2     2096\n",
       "3      363\n",
       "4       76\n",
       "5       21\n",
       "6        7\n",
       "7        3\n",
       "8        1\n",
       "Name: intake_number, dtype: int64"
      ]
     },
     "execution_count": 794,
     "metadata": {},
     "output_type": "execute_result"
    }
   ],
   "source": [
    "test['intake_number'].value_counts()"
   ]
  },
  {
   "cell_type": "code",
   "execution_count": 795,
   "metadata": {},
   "outputs": [],
   "source": [
    "train = train.drop(['intake_number','outcome_number'],axis=1)\n",
    "test = test.drop(['intake_number','outcome_number'],axis=1)"
   ]
  },
  {
   "cell_type": "markdown",
   "metadata": {},
   "source": [
    "### Correlation Matrix"
   ]
  },
  {
   "cell_type": "code",
   "execution_count": 799,
   "metadata": {},
   "outputs": [
    {
     "data": {
      "image/png": "[encoded data removed]",
      "text/plain": [
       "<Figure size 1080x1080 with 2 Axes>"
      ]
     },
     "metadata": {
      "needs_background": "light"
     },
     "output_type": "display_data"
    }
   ],
   "source": [
    "f, ax = plt.subplots(figsize=(15, 15))\n",
    "corr = train.corr()\n",
    "sns.heatmap(corr, mask=np.zeros_like(corr, dtype=np.bool), cmap=sns.diverging_palette(220, 10, as_cmap=True),\n",
    "            square=True, ax=ax,annot=True)\n",
    "plt.show()"
   ]
  },
  {
   "cell_type": "code",
   "execution_count": 800,
   "metadata": {},
   "outputs": [
    {
     "data": {
      "text/plain": [
       "dob_year                    0.186020\n",
       "dob_month                  -0.014821\n",
       "breed                      -0.037307\n",
       "sex_upon_intake            -0.038513\n",
       "age_upon_intake_(years)    -0.199891\n",
       "intake_month               -0.001615\n",
       "intake_year                -0.078808\n",
       "intake_weekday              0.002963\n",
       "time_in_shelter_days        0.090523\n",
       "sex_upon_outcome            0.064812\n",
       "age_upon_outcome_(years)   -0.197599\n",
       "outcome_month               0.009727\n",
       "outcome_year               -0.066980\n",
       "outcome_type                1.000000\n",
       "dob_group                   0.160079\n",
       "age_upon_intake            -0.199891\n",
       "animal_type_numeric         0.232885\n",
       "intake_condition_numeric    0.080169\n",
       "intake_type_numeric         0.101959\n",
       "age_group                   0.158755\n",
       "age_group_outcome           0.158093\n",
       "Name: outcome_type, dtype: float64"
      ]
     },
     "execution_count": 800,
     "metadata": {},
     "output_type": "execute_result"
    }
   ],
   "source": [
    "corr['outcome_type']"
   ]
  },
  {
   "cell_type": "markdown",
   "metadata": {},
   "source": [
    "#### We can see animal type , dob_year , age_group are somewhat correlated with outcome_type"
   ]
  },
  {
   "cell_type": "code",
   "execution_count": 833,
   "metadata": {},
   "outputs": [],
   "source": [
    "X = train.drop('outcome_type',axis=1)\n",
    "y = train['outcome_type']"
   ]
  },
  {
   "cell_type": "markdown",
   "metadata": {},
   "source": [
    "### Polynomial Feature Engineering"
   ]
  },
  {
   "cell_type": "code",
   "execution_count": 802,
   "metadata": {},
   "outputs": [
    {
     "data": {
      "text/plain": [
       "dob_year                    0.186020\n",
       "dob_month                  -0.014821\n",
       "breed                      -0.037307\n",
       "sex_upon_intake            -0.038513\n",
       "age_upon_intake_(years)    -0.199891\n",
       "intake_month               -0.001615\n",
       "intake_year                -0.078808\n",
       "intake_weekday              0.002963\n",
       "time_in_shelter_days        0.090523\n",
       "sex_upon_outcome            0.064812\n",
       "age_upon_outcome_(years)   -0.197599\n",
       "outcome_month               0.009727\n",
       "outcome_year               -0.066980\n",
       "outcome_type                1.000000\n",
       "dob_group                   0.160079\n",
       "age_upon_intake            -0.199891\n",
       "animal_type_numeric         0.232885\n",
       "intake_condition_numeric    0.080169\n",
       "intake_type_numeric         0.101959\n",
       "age_group                   0.158755\n",
       "age_group_outcome           0.158093\n",
       "Name: outcome_type, dtype: float64"
      ]
     },
     "execution_count": 802,
     "metadata": {},
     "output_type": "execute_result"
    }
   ],
   "source": [
    "corr = train.corr()\n",
    "corr['outcome_type']"
   ]
  },
  {
   "cell_type": "markdown",
   "metadata": {},
   "source": [
    "#### Get Top 5 most correlated features "
   ]
  },
  {
   "cell_type": "code",
   "execution_count": 803,
   "metadata": {},
   "outputs": [],
   "source": [
    "train_new = train[['dob_year' , 'age_group' ,'animal_type_numeric' ,'dob_group' ,'intake_type_numeric']]"
   ]
  },
  {
   "cell_type": "code",
   "execution_count": 804,
   "metadata": {},
   "outputs": [
    {
     "data": {
      "text/plain": [
       "(42679, 5)"
      ]
     },
     "execution_count": 804,
     "metadata": {},
     "output_type": "execute_result"
    }
   ],
   "source": [
    "train_new.shape"
   ]
  },
  {
   "cell_type": "markdown",
   "metadata": {},
   "source": [
    "#### Square them and take all combinations. Done using PolynomialFeatures"
   ]
  },
  {
   "cell_type": "code",
   "execution_count": 805,
   "metadata": {},
   "outputs": [
    {
     "data": {
      "text/plain": [
       "(42679, 16)"
      ]
     },
     "execution_count": 805,
     "metadata": {},
     "output_type": "execute_result"
    }
   ],
   "source": [
    "from sklearn.preprocessing import PolynomialFeatures\n",
    "poly = PolynomialFeatures(interaction_only=True)\n",
    "train_new = poly.fit_transform(train_new)\n",
    "train_new.shape"
   ]
  },
  {
   "cell_type": "code",
   "execution_count": 806,
   "metadata": {},
   "outputs": [],
   "source": [
    "train_new = pd.DataFrame(train_new)"
   ]
  },
  {
   "cell_type": "code",
   "execution_count": 807,
   "metadata": {},
   "outputs": [
    {
     "data": {
      "text/plain": [
       "0               NaN\n",
       "1          0.065874\n",
       "2          0.056353\n",
       "3          0.032756\n",
       "4          0.057021\n",
       "5         -0.006292\n",
       "6          0.056495\n",
       "7          0.032796\n",
       "8          0.057189\n",
       "9         -0.006236\n",
       "10         0.037763\n",
       "11         0.062442\n",
       "12         0.003201\n",
       "13         0.035394\n",
       "14         0.011292\n",
       "15        -0.001402\n",
       "outcome    1.000000\n",
       "Name: outcome, dtype: float64"
      ]
     },
     "execution_count": 807,
     "metadata": {},
     "output_type": "execute_result"
    }
   ],
   "source": [
    "train_new['outcome'] = train['outcome_type']\n",
    "corr = train_new.corr()\n",
    "corr['outcome']"
   ]
  },
  {
   "cell_type": "markdown",
   "metadata": {},
   "source": [
    "#### Does not obtain correlated features using this"
   ]
  },
  {
   "cell_type": "markdown",
   "metadata": {},
   "source": [
    "### Model Selection"
   ]
  },
  {
   "cell_type": "code",
   "execution_count": 808,
   "metadata": {},
   "outputs": [],
   "source": [
    "from sklearn.model_selection import train_test_split"
   ]
  },
  {
   "cell_type": "code",
   "execution_count": 834,
   "metadata": {},
   "outputs": [],
   "source": [
    "X_train, X_test, y_train, y_test = train_test_split(X, y, test_size=0.4, random_state=42)"
   ]
  },
  {
   "cell_type": "code",
   "execution_count": 835,
   "metadata": {},
   "outputs": [],
   "source": [
    "from sklearn.tree import DecisionTreeClassifier\n",
    "from sklearn.metrics import mean_absolute_error,mean_squared_error,accuracy_score,f1_score,classification_report"
   ]
  },
  {
   "cell_type": "code",
   "execution_count": 836,
   "metadata": {},
   "outputs": [
    {
     "name": "stdout",
     "output_type": "stream",
     "text": [
      "Mean Absolute Error: 1.4916822867853796\n",
      "Mean Squared Error: 5.24238519212746\n",
      "Root Mean Squared Error: 2.2896255571877817\n",
      "Accuracy: 0.4541940018744142\n"
     ]
    },
    {
     "data": {
      "text/plain": [
       "0.33579721727074957"
      ]
     },
     "execution_count": 836,
     "metadata": {},
     "output_type": "execute_result"
    }
   ],
   "source": [
    "decision_tree = DecisionTreeClassifier()\n",
    "decision_tree.fit(X_train, y_train)\n",
    "\n",
    "Y_pred = decision_tree.predict(X_test)\n",
    "\n",
    "print('Mean Absolute Error:', mean_absolute_error(y_test, Y_pred))  \n",
    "print('Mean Squared Error:', mean_squared_error(y_test, Y_pred))  \n",
    "print('Root Mean Squared Error:', np.sqrt(mean_squared_error(y_test, Y_pred)))\n",
    "print('Accuracy:', accuracy_score(y_test, Y_pred))  \n",
    "f1_score(y_test, Y_pred ,average='macro')\n"
   ]
  },
  {
   "cell_type": "code",
   "execution_count": 837,
   "metadata": {},
   "outputs": [
    {
     "name": "stderr",
     "output_type": "stream",
     "text": [
      "G:\\Anaconda3\\lib\\site-packages\\sklearn\\ensemble\\forest.py:245: FutureWarning: The default value of n_estimators will change from 10 in version 0.20 to 100 in 0.22.\n",
      "  \"10 in version 0.20 to 100 in 0.22.\", FutureWarning)\n"
     ]
    },
    {
     "name": "stdout",
     "output_type": "stream",
     "text": [
      "Mean Absolute Error: 1.2031982193064668\n",
      "Mean Squared Error: 4.070934864104967\n",
      "Root Mean Squared Error: 2.0176557843460237\n",
      "Accuracy: 0.5405342080599812\n"
     ]
    },
    {
     "data": {
      "text/plain": [
       "0.3539151873482229"
      ]
     },
     "execution_count": 837,
     "metadata": {},
     "output_type": "execute_result"
    }
   ],
   "source": [
    "from sklearn.ensemble import RandomForestClassifier\n",
    "from sklearn.datasets import make_classification\n",
    "\n",
    "rfc = RandomForestClassifier()\n",
    "rfc.fit(X_train, y_train)\n",
    "\n",
    "Y_pred = rfc.predict(X_test)\n",
    "\n",
    "print('Mean Absolute Error:', mean_absolute_error(y_test, Y_pred))  \n",
    "print('Mean Squared Error:', mean_squared_error(y_test, Y_pred))  \n",
    "print('Root Mean Squared Error:', np.sqrt(mean_squared_error(y_test, Y_pred)))\n",
    "print('Accuracy:', accuracy_score(y_test, Y_pred))  \n",
    "f1_score(y_test, Y_pred ,average='macro')"
   ]
  },
  {
   "cell_type": "code",
   "execution_count": 838,
   "metadata": {},
   "outputs": [
    {
     "data": {
      "text/plain": [
       "array([0.0298511 , 0.05868822, 0.07939427, 0.03661506, 0.03535756,\n",
       "       0.05300153, 0.02235458, 0.06784416, 0.22532458, 0.06635585,\n",
       "       0.0410117 , 0.05456053, 0.02182628, 0.00358923, 0.04316694,\n",
       "       0.0371936 , 0.02407801, 0.08431983, 0.00703522, 0.00843173])"
      ]
     },
     "execution_count": 838,
     "metadata": {},
     "output_type": "execute_result"
    }
   ],
   "source": [
    "rfc.feature_importances_"
   ]
  },
  {
   "cell_type": "code",
   "execution_count": 839,
   "metadata": {},
   "outputs": [
    {
     "name": "stdout",
     "output_type": "stream",
     "text": [
      "              precision    recall  f1-score   support\n",
      "\n",
      "           0       0.74      0.82      0.78      3118\n",
      "           1       0.07      0.04      0.05       937\n",
      "           2       0.50      0.59      0.54      3978\n",
      "           3       0.52      0.70      0.60      4462\n",
      "           4       0.76      0.66      0.71      1639\n",
      "           5       0.05      0.02      0.03       897\n",
      "           6       0.07      0.02      0.04       906\n",
      "           7       0.10      0.04      0.05      1059\n",
      "           8       0.66      0.28      0.39        76\n",
      "\n",
      "    accuracy                           0.54     17072\n",
      "   macro avg       0.39      0.35      0.35     17072\n",
      "weighted avg       0.48      0.54      0.50     17072\n",
      "\n"
     ]
    }
   ],
   "source": [
    "print(classification_report(y_test, Y_pred))"
   ]
  },
  {
   "cell_type": "code",
   "execution_count": 840,
   "metadata": {
    "scrolled": true
   },
   "outputs": [
    {
     "name": "stdout",
     "output_type": "stream",
     "text": [
      "Mean Absolute Error: 0.9960754451733833\n",
      "Mean Squared Error: 3.1596180880974694\n",
      "Root Mean Squared Error: 1.777531459102052\n",
      "Accuracy: 0.5978795688847235\n"
     ]
    },
    {
     "data": {
      "text/plain": [
       "0.5285583250886711"
      ]
     },
     "execution_count": 840,
     "metadata": {},
     "output_type": "execute_result"
    }
   ],
   "source": [
    "from sklearn.ensemble import GradientBoostingClassifier\n",
    "\n",
    "gbc = GradientBoostingClassifier()\n",
    "gbc.fit(X_train, y_train)\n",
    "\n",
    "Y_pred = gbc.predict(X_test)\n",
    "\n",
    "print('Mean Absolute Error:', mean_absolute_error(y_test, Y_pred))  \n",
    "print('Mean Squared Error:', mean_squared_error(y_test, Y_pred))  \n",
    "print('Root Mean Squared Error:', np.sqrt(mean_squared_error(y_test, Y_pred)))\n",
    "print('Accuracy:', accuracy_score(y_test, Y_pred))  \n",
    "f1_score(y_test, Y_pred ,average='weighted')"
   ]
  },
  {
   "cell_type": "code",
   "execution_count": 841,
   "metadata": {},
   "outputs": [
    {
     "name": "stdout",
     "output_type": "stream",
     "text": [
      "Mean Absolute Error: 1.4830131208997188\n",
      "Mean Squared Error: 5.172211808809747\n",
      "Root Mean Squared Error: 2.274249724372798\n",
      "Accuracy: 0.43978444236176195\n"
     ]
    },
    {
     "data": {
      "text/plain": [
       "0.41350642727028697"
      ]
     },
     "execution_count": 841,
     "metadata": {},
     "output_type": "execute_result"
    }
   ],
   "source": [
    "knn = KNeighborsClassifier(n_neighbors = 3)\n",
    "knn.fit(X_train, y_train)\n",
    "Y_pred = knn.predict(X_test)\n",
    "\n",
    "print('Mean Absolute Error:', mean_absolute_error(y_test, Y_pred))  \n",
    "print('Mean Squared Error:', mean_squared_error(y_test, Y_pred))  \n",
    "print('Root Mean Squared Error:', np.sqrt(mean_squared_error(y_test, Y_pred)))\n",
    "print('Accuracy:', accuracy_score(y_test, Y_pred))  \n",
    "f1_score(y_test, Y_pred ,average='weighted')"
   ]
  },
  {
   "cell_type": "code",
   "execution_count": 842,
   "metadata": {},
   "outputs": [],
   "source": [
    "from sklearn import linear_model\n",
    "from sklearn.linear_model import LogisticRegression\n",
    "from sklearn.linear_model import Perceptron\n",
    "from sklearn.linear_model import SGDClassifier\n",
    "from sklearn.svm import SVC, LinearSVC\n",
    "from sklearn.naive_bayes import GaussianNB"
   ]
  },
  {
   "cell_type": "code",
   "execution_count": 843,
   "metadata": {},
   "outputs": [
    {
     "name": "stderr",
     "output_type": "stream",
     "text": [
      "G:\\Anaconda3\\lib\\site-packages\\sklearn\\linear_model\\logistic.py:432: FutureWarning: Default solver will be changed to 'lbfgs' in 0.22. Specify a solver to silence this warning.\n",
      "  FutureWarning)\n",
      "G:\\Anaconda3\\lib\\site-packages\\sklearn\\linear_model\\logistic.py:469: FutureWarning: Default multi_class will be changed to 'auto' in 0.22. Specify the multi_class option to silence this warning.\n",
      "  \"this warning.\", FutureWarning)\n"
     ]
    },
    {
     "name": "stdout",
     "output_type": "stream",
     "text": [
      "Mean Absolute Error: 1.2635309278350515\n",
      "Mean Squared Error: 4.21538191190253\n",
      "Root Mean Squared Error: 2.053139525678304\n",
      "Accuracy: 0.5174554826616682\n"
     ]
    },
    {
     "name": "stderr",
     "output_type": "stream",
     "text": [
      "G:\\Anaconda3\\lib\\site-packages\\sklearn\\metrics\\classification.py:1437: UndefinedMetricWarning: F-score is ill-defined and being set to 0.0 in labels with no predicted samples.\n",
      "  'precision', 'predicted', average, warn_for)\n"
     ]
    },
    {
     "data": {
      "text/plain": [
       "0.4505574656289475"
      ]
     },
     "execution_count": 843,
     "metadata": {},
     "output_type": "execute_result"
    }
   ],
   "source": [
    "logreg = LogisticRegression()\n",
    "logreg.fit(X_train, y_train)\n",
    "\n",
    "Y_pred = logreg.predict(X_test)\n",
    "print('Mean Absolute Error:', mean_absolute_error(y_test, Y_pred))  \n",
    "print('Mean Squared Error:', mean_squared_error(y_test, Y_pred))  \n",
    "print('Root Mean Squared Error:', np.sqrt(mean_squared_error(y_test, Y_pred)))\n",
    "print('Accuracy:', accuracy_score(y_test, Y_pred))  \n",
    "f1_score(y_test, Y_pred ,average='weighted')"
   ]
  },
  {
   "cell_type": "code",
   "execution_count": 844,
   "metadata": {},
   "outputs": [],
   "source": [
    "outcome_id = test['animal_id_outcome']"
   ]
  },
  {
   "cell_type": "code",
   "execution_count": 845,
   "metadata": {},
   "outputs": [],
   "source": [
    "test = test.drop('animal_id_outcome',axis=1)"
   ]
  },
  {
   "cell_type": "markdown",
   "metadata": {},
   "source": [
    "### Submission"
   ]
  },
  {
   "cell_type": "code",
   "execution_count": 848,
   "metadata": {},
   "outputs": [],
   "source": [
    "\n",
    "out = gbc.predict(test)"
   ]
  },
  {
   "cell_type": "code",
   "execution_count": 849,
   "metadata": {},
   "outputs": [
    {
     "data": {
      "text/plain": [
       "{'Return to Owner': 0,\n",
       " 'Missing': 1,\n",
       " 'Transfer': 2,\n",
       " 'Adoption': 3,\n",
       " 'Euthanasia': 4,\n",
       " 'Rto-Adopt': 5,\n",
       " 'Relocate': 6,\n",
       " 'Died': 7,\n",
       " 'Disposal': 8}"
      ]
     },
     "execution_count": 849,
     "metadata": {},
     "output_type": "execute_result"
    }
   ],
   "source": [
    "mapping"
   ]
  },
  {
   "cell_type": "code",
   "execution_count": 850,
   "metadata": {},
   "outputs": [],
   "source": [
    "outcome_type = dict(map(reversed, mapping.items()))"
   ]
  },
  {
   "cell_type": "code",
   "execution_count": 851,
   "metadata": {},
   "outputs": [
    {
     "data": {
      "text/plain": [
       "{0: 'Return to Owner',\n",
       " 1: 'Missing',\n",
       " 2: 'Transfer',\n",
       " 3: 'Adoption',\n",
       " 4: 'Euthanasia',\n",
       " 5: 'Rto-Adopt',\n",
       " 6: 'Relocate',\n",
       " 7: 'Died',\n",
       " 8: 'Disposal'}"
      ]
     },
     "execution_count": 851,
     "metadata": {},
     "output_type": "execute_result"
    }
   ],
   "source": [
    "outcome_type"
   ]
  },
  {
   "cell_type": "code",
   "execution_count": 852,
   "metadata": {},
   "outputs": [
    {
     "data": {
      "text/plain": [
       "array([3, 3, 3, ..., 4, 2, 0], dtype=int64)"
      ]
     },
     "execution_count": 852,
     "metadata": {},
     "output_type": "execute_result"
    }
   ],
   "source": [
    "out"
   ]
  },
  {
   "cell_type": "code",
   "execution_count": 853,
   "metadata": {},
   "outputs": [],
   "source": [
    "new_outcome=[]\n",
    "for i in out:\n",
    "    a = outcome_type[i]\n",
    "    new_outcome.append(a)\n",
    "    "
   ]
  },
  {
   "cell_type": "code",
   "execution_count": 854,
   "metadata": {},
   "outputs": [],
   "source": [
    "out_df = pd.DataFrame({'animal_id_outcome' : outcome_id , 'outcome_type':new_outcome})"
   ]
  },
  {
   "cell_type": "code",
   "execution_count": 855,
   "metadata": {},
   "outputs": [],
   "source": [
    "out_df.to_csv('submission.csv',index=False)"
   ]
  },
  {
   "cell_type": "code",
   "execution_count": null,
   "metadata": {},
   "outputs": [],
   "source": []
  }
 ],
 "metadata": {
  "kernelspec": {
   "display_name": "Python 3",
   "language": "python",
   "name": "python3"
  },
  "language_info": {
   "codemirror_mode": {
    "name": "ipython",
    "version": 3
   },
   "file_extension": ".py",
   "mimetype": "text/x-python",
   "name": "python",
   "nbconvert_exporter": "python",
   "pygments_lexer": "ipython3",
   "version": "3.6.8"
  }
 },
 "nbformat": 4,
 "nbformat_minor": 2
}
